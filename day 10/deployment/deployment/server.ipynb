{
 "cells": [
  {
   "cell_type": "code",
   "execution_count": 1,
   "id": "e2bbe3db-31ba-45e7-b9ea-91d0cc3eefbe",
   "metadata": {},
   "outputs": [
    {
     "name": "stderr",
     "output_type": "stream",
     "text": [
      "C:\\Users\\KCT\\anaconda3\\Lib\\site-packages\\sklearn\\base.py:380: InconsistentVersionWarning: Trying to unpickle estimator StandardScaler from version 1.7.1 when using version 1.6.1. This might lead to breaking code or invalid results. Use at your own risk. For more info please refer to:\n",
      "https://scikit-learn.org/stable/model_persistence.html#security-maintainability-limitations\n",
      "  warnings.warn(\n"
     ]
    }
   ],
   "source": [
    "from flask import Flask, request, jsonify\n",
    "from flask_cors import CORS\n",
    "import joblib\n",
    "from utils import prepare_features_from_raw"
   ]
  },
  {
   "cell_type": "code",
   "execution_count": 2,
   "id": "51bc696b-0d16-47c5-9bfe-a6c4e4c2d99e",
   "metadata": {},
   "outputs": [
    {
     "data": {
      "text/plain": [
       "<flask_cors.extension.CORS at 0x24cb2331160>"
      ]
     },
     "execution_count": 2,
     "metadata": {},
     "output_type": "execute_result"
    }
   ],
   "source": [
    "app = Flask(__name__)\n",
    "CORS(app)  "
   ]
  },
  {
   "cell_type": "code",
   "execution_count": 3,
   "id": "a4bdd0a6-ca36-482f-badf-1644387afad7",
   "metadata": {},
   "outputs": [
    {
     "name": "stderr",
     "output_type": "stream",
     "text": [
      "C:\\Users\\KCT\\anaconda3\\Lib\\site-packages\\sklearn\\base.py:380: InconsistentVersionWarning: Trying to unpickle estimator LinearRegression from version 1.7.1 when using version 1.6.1. This might lead to breaking code or invalid results. Use at your own risk. For more info please refer to:\n",
      "https://scikit-learn.org/stable/model_persistence.html#security-maintainability-limitations\n",
      "  warnings.warn(\n",
      "C:\\Users\\KCT\\anaconda3\\Lib\\site-packages\\sklearn\\base.py:380: InconsistentVersionWarning: Trying to unpickle estimator DecisionTreeRegressor from version 1.7.1 when using version 1.6.1. This might lead to breaking code or invalid results. Use at your own risk. For more info please refer to:\n",
      "https://scikit-learn.org/stable/model_persistence.html#security-maintainability-limitations\n",
      "  warnings.warn(\n",
      "C:\\Users\\KCT\\anaconda3\\Lib\\site-packages\\sklearn\\base.py:380: InconsistentVersionWarning: Trying to unpickle estimator RandomForestRegressor from version 1.7.1 when using version 1.6.1. This might lead to breaking code or invalid results. Use at your own risk. For more info please refer to:\n",
      "https://scikit-learn.org/stable/model_persistence.html#security-maintainability-limitations\n",
      "  warnings.warn(\n"
     ]
    }
   ],
   "source": [
    "MODELS = {\n",
    "    \"lr\": joblib.load(\"models/lr_model.joblib\"),\n",
    "    \"rf\": joblib.load(\"models/rf_model.joblib\"),\n",
    "}"
   ]
  },
  {
   "cell_type": "code",
   "execution_count": 4,
   "id": "be392b4b-025e-4520-9c9e-e49920c51c66",
   "metadata": {},
   "outputs": [],
   "source": [
    "@app.route(\"/\", methods=[\"GET\"])\n",
    "def home():\n",
    "    return jsonify({\n",
    "        \"message\": \"House Price Prediction API\",\n",
    "        \"endpoints\": {\n",
    "            \"POST /predict?model=lr|rf\": {\n",
    "                \"expects_json\": {\n",
    "                    \"Size_sqft\": \"number\",\n",
    "                    \"Bedrooms\": \"int\",\n",
    "                    \"Bathrooms\": \"int\",\n",
    "                    \"YearBuilt\": \"int\",\n",
    "                    \"Location\": \"City|Suburb|Rural\"\n",
    "                }\n",
    "            }\n",
    "        }\n",
    "    })"
   ]
  },
  {
   "cell_type": "code",
   "execution_count": 5,
   "id": "ebefb7e9-7b65-44bf-8f08-a6b2d7ded575",
   "metadata": {},
   "outputs": [],
   "source": [
    "@app.route(\"/predict\", methods=[\"POST\"])\n",
    "def predict():\n",
    "    # 1) choose model\n",
    "    choice = (request.args.get(\"model\")).lower()\n",
    "    if choice not in MODELS:\n",
    "        return jsonify({\"error\": \"Unknown model. Use model=lr or model=rf\"}), 400\n",
    "    model = MODELS[choice]\n",
    "\n",
    "    # 2) read payload\n",
    "    data = request.get_json(silent=True) or {}\n",
    "    required = [\"Size_sqft\", \"Bedrooms\", \"Bathrooms\", \"YearBuilt\", \"Location\"]\n",
    "    missing = [k for k in required if k not in data]\n",
    "    if missing:\n",
    "        return jsonify({\"error\": f\"Missing fields: {missing}\"}), 400\n",
    "\n",
    "    try:\n",
    "        x_new = prepare_features_from_raw(data)   # 1-row DataFrame\n",
    "        pred = float(model.predict(x_new)[0])\n",
    "    except Exception as e:\n",
    "        return jsonify({\"error\": f\"Failed to prepare/predict: {e}\"}), 500\n",
    "\n",
    "    return jsonify({\n",
    "        \"model\": \"linear_regression\" if choice == \"lr\" else \"random_forest\",\n",
    "        \"input\": {\n",
    "            \"Size_sqft\": float(data[\"Size_sqft\"]),\n",
    "            \"Bedrooms\": int(data[\"Bedrooms\"]),\n",
    "            \"Bathrooms\": int(data[\"Bathrooms\"]),\n",
    "            \"YearBuilt\": int(data[\"YearBuilt\"]),\n",
    "            \"Location\": str(data[\"Location\"])\n",
    "        },\n",
    "        \"prediction\": round(pred, 2)\n",
    "    })"
   ]
  },
  {
   "cell_type": "code",
   "execution_count": null,
   "id": "c20554da-661b-414f-8082-d4cee2252f32",
   "metadata": {},
   "outputs": [],
   "source": [
    "app.run(host=\"0.0.0.0\", port=9090, debug=False)"
   ]
  }
 ],
 "metadata": {
  "kernelspec": {
   "display_name": "Python [conda env:base] *",
   "language": "python",
   "name": "conda-base-py"
  },
  "language_info": {
   "codemirror_mode": {
    "name": "ipython",
    "version": 3
   },
   "file_extension": ".py",
   "mimetype": "text/x-python",
   "name": "python",
   "nbconvert_exporter": "python",
   "pygments_lexer": "ipython3",
   "version": "3.13.5"
  }
 },
 "nbformat": 4,
 "nbformat_minor": 5
}
