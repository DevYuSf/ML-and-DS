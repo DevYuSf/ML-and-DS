{
 "cells": [
  {
   "cell_type": "code",
   "execution_count": 1,
   "id": "abd4390a-9851-4d55-98ae-47ec95c2ae19",
   "metadata": {},
   "outputs": [],
   "source": [
    "import json\n",
    "import joblib\n",
    "import pandas as pd"
   ]
  },
  {
   "cell_type": "code",
   "execution_count": 2,
   "id": "43601760-fbc8-4158-aee2-39ec1b39bf7d",
   "metadata": {},
   "outputs": [],
   "source": [
    "CURRENT_YEAR = 2025"
   ]
  },
  {
   "cell_type": "code",
   "execution_count": 3,
   "id": "0b4ea0c2-5254-4737-bbe6-b16dfc4a15e8",
   "metadata": {},
   "outputs": [
    {
     "name": "stderr",
     "output_type": "stream",
     "text": [
      "C:\\Users\\KCT\\anaconda3\\Lib\\site-packages\\sklearn\\base.py:380: InconsistentVersionWarning: Trying to unpickle estimator StandardScaler from version 1.7.1 when using version 1.6.1. This might lead to breaking code or invalid results. Use at your own risk. For more info please refer to:\n",
      "https://scikit-learn.org/stable/model_persistence.html#security-maintainability-limitations\n",
      "  warnings.warn(\n"
     ]
    }
   ],
   "source": [
    "TRAIN_COLUMNS = json.load(open(\"models/train_columns.json\"))\n",
    "SCALER = joblib.load(\"models/house_scaler.pkl\") "
   ]
  },
  {
   "cell_type": "code",
   "execution_count": 4,
   "id": "4b642d31-b5bd-4235-b1e1-d782f35265a0",
   "metadata": {},
   "outputs": [],
   "source": [
    "def prepare_features_from_raw(record: dict) -> pd.DataFrame:\n",
    "    \"\"\"\n",
    "    Convert raw input (Size_sqft, Bedrooms, Bathrooms, Location, YearBuilt)\n",
    "    into the engineered, one-hot, scaled feature row that matches training.\n",
    "    Returns a 1-row DataFrame with columns == TRAIN_COLUMNS.\n",
    "    \"\"\"\n",
    "    size = float(record.get(\"Size_sqft\", 0.0))\n",
    "    beds = float(record.get(\"Bedrooms\", 0.0))\n",
    "    baths = float(record.get(\"Bathrooms\", 0.0))\n",
    "    year = int(record.get(\"YearBuilt\", CURRENT_YEAR))\n",
    "    loc = str(record.get(\"Location\", \"City\"))\n",
    "\n",
    "    # Recreate engineered features exactly like Lesson-3\n",
    "    house_age = CURRENT_YEAR - year\n",
    "    rooms_per_1000 = ((beds + baths) / (size / 1000.0)) if size else 0.0\n",
    "    size_per_bedroom = (size / beds) if beds else 0.0\n",
    "    is_city = 1 if loc.lower() == \"city\" else 0\n",
    "\n",
    "    # Build a full row with zeros for all training columns\n",
    "    row = {col: 0.0 for col in TRAIN_COLUMNS}\n",
    "\n",
    "    for name, val in [\n",
    "        (\"Size_sqft\", size),\n",
    "        (\"Bedrooms\", beds),\n",
    "        (\"Bathrooms\", baths),\n",
    "        (\"YearBuilt\", year),\n",
    "        (\"HouseAge\", house_age),\n",
    "        (\"Rooms_per_1000sqft\", rooms_per_1000),\n",
    "        (\"Size_per_Bedroom\", size_per_bedroom),\n",
    "        (\"Is_City\", is_city),\n",
    "    ]:\n",
    "        if name in row:\n",
    "            row[name] = float(val)\n",
    "\n",
    "    # One-hot for Location_*\n",
    "    loc_col = f\"Location_{loc}\"\n",
    "    if loc_col in row:\n",
    "        row[loc_col] = 1.0\n",
    "\n",
    "    # 1-row DataFrame with correct column order\n",
    "    df_one = pd.DataFrame([row], columns=TRAIN_COLUMNS)\n",
    "\n",
    "    # Scale only the columns the scaler was fitted on\n",
    "    if hasattr(SCALER, \"feature_names_in_\"):\n",
    "        cols_to_scale = list(SCALER.feature_names_in_)\n",
    "        df_one[cols_to_scale] = SCALER.transform(df_one[cols_to_scale])\n",
    "\n",
    "    return df_one"
   ]
  },
  {
   "cell_type": "code",
   "execution_count": null,
   "id": "cc00c595-dc5c-4c5f-8edc-93634d0ff3a6",
   "metadata": {},
   "outputs": [],
   "source": []
  }
 ],
 "metadata": {
  "kernelspec": {
   "display_name": "Python [conda env:base] *",
   "language": "python",
   "name": "conda-base-py"
  },
  "language_info": {
   "codemirror_mode": {
    "name": "ipython",
    "version": 3
   },
   "file_extension": ".py",
   "mimetype": "text/x-python",
   "name": "python",
   "nbconvert_exporter": "python",
   "pygments_lexer": "ipython3",
   "version": "3.13.5"
  }
 },
 "nbformat": 4,
 "nbformat_minor": 5
}
