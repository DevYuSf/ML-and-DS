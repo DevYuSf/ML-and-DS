{
 "cells": [
  {
   "cell_type": "code",
   "execution_count": 1,
   "id": "af7ce651-f8ac-4fe2-935e-3fd6014b2874",
   "metadata": {},
   "outputs": [],
   "source": [
    "import pandas as pd\n",
    "import glob\n",
    "\n",
    "\n"
   ]
  },
  {
   "cell_type": "code",
   "execution_count": 2,
   "id": "34897174-b61a-4975-96d1-d743d95ea495",
   "metadata": {},
   "outputs": [
    {
     "name": "stdout",
     "output_type": "stream",
     "text": [
      "Shape after merge: (77646, 20)\n"
     ]
    }
   ],
   "source": [
    "folder_path = \"*.csv\"\n",
    "# Read and merge all CSV files\n",
    "files = glob.glob(folder_path)\n",
    "df = pd.concat([pd.read_csv(f) for f in files], ignore_index=True)\n",
    "\n",
    "print(\"Shape after merge:\", df.shape)"
   ]
  },
  {
   "cell_type": "code",
   "execution_count": 3,
   "id": "98642506-d0f4-4414-b0f6-cb9d4a968e8b",
   "metadata": {},
   "outputs": [],
   "source": [
    "# Convert Arrival to datetime and extract useful features\n",
    "df[\"Arrival\"] = pd.to_datetime(df[\"Arrival\"], errors=\"coerce\")\n",
    "df[\"Arrival_Year\"] = df[\"Arrival\"].dt.year\n",
    "df[\"Arrival_Month\"] = df[\"Arrival\"].dt.month\n"
   ]
  },
  {
   "cell_type": "code",
   "execution_count": 15,
   "id": "baed0547-45a3-42c4-b88a-fd17dad5cdc3",
   "metadata": {},
   "outputs": [],
   "source": [
    "# df = df.drop(columns=[\"OrganisationAcronym\", \"Category\"])\n",
    "df = df.drop(columns=[\"Arrival\"])\n",
    "\n"
   ]
  },
  {
   "cell_type": "code",
   "execution_count": 5,
   "id": "136f09b5-8ea9-4da7-bbec-6cf81552fd91",
   "metadata": {},
   "outputs": [],
   "source": [
    "df = df.rename(columns={\n",
    "    \"0-4M\": \"Age0_4_Male\",\n",
    "    \"0-4F\": \"Age0_4_Female\",\n",
    "    \"5-11M\": \"Age5_11_Male\",\n",
    "    \"5-11F\": \"Age5_11_Female\",\n",
    "    \"12-17M\": \"Age12_17_Male\",\n",
    "    \"12-17F\": \"Age12_17_Female\",\n",
    "    \"18_59M\": \"Age18_59_Male\",\n",
    "    \"18_59F\": \"Age18_59_Female\",\n",
    "    \"60+M\": \"Age60plus_Male\",\n",
    "    \"60+F\": \"Age60plus_Female\"\n",
    "})\n"
   ]
  },
  {
   "cell_type": "code",
   "execution_count": 18,
   "id": "fe16e61b-4fbe-4ed3-b490-25bd10a5e44d",
   "metadata": {},
   "outputs": [
    {
     "name": "stdout",
     "output_type": "stream",
     "text": [
      "<class 'pandas.core.frame.DataFrame'>\n",
      "Index: 72574 entries, 0 to 77645\n",
      "Data columns (total 19 columns):\n",
      " #   Column            Non-Null Count  Dtype  \n",
      "---  ------            --------------  -----  \n",
      " 0   Current Region    72574 non-null  object \n",
      " 1   CurrentDistrict   72574 non-null  object \n",
      " 2   Previous Region   72574 non-null  object \n",
      " 3   PreviousDistrict  72574 non-null  object \n",
      " 4   ZoneName          72574 non-null  object \n",
      " 5   Age0_4_Male       72574 non-null  int64  \n",
      " 6   Age0_4_Female     72574 non-null  int64  \n",
      " 7   Age5_11_Male      72574 non-null  int64  \n",
      " 8   Age5_11_Female    72574 non-null  int64  \n",
      " 9   Age12_17_Male     72574 non-null  int64  \n",
      " 10  Age12_17_Female   72574 non-null  int64  \n",
      " 11  Age18_59_Male     72574 non-null  int64  \n",
      " 12  Age18_59_Female   72574 non-null  int64  \n",
      " 13  Age60plus_Male    72574 non-null  int64  \n",
      " 14  Age60plus_Female  72574 non-null  int64  \n",
      " 15  Individuals       72574 non-null  int64  \n",
      " 16  Need              70206 non-null  object \n",
      " 17  Arrival_Year      72574 non-null  float64\n",
      " 18  Arrival_Month     72574 non-null  float64\n",
      "dtypes: float64(2), int64(11), object(6)\n",
      "memory usage: 11.1+ MB\n",
      "None\n"
     ]
    }
   ],
   "source": [
    "print(df.info())"
   ]
  },
  {
   "cell_type": "code",
   "execution_count": 17,
   "id": "76aed01d-c3b5-4711-97f7-f048ce50e076",
   "metadata": {},
   "outputs": [],
   "source": [
    "df[\"Current Region\"] = df[\"Current Region\"].fillna(df[\"Current Region\"].mode()[0])\n",
    "df[\"Previous Region\"] = df[\"Previous Region\"].fillna(df[\"Previous Region\"].mode()[0])\n",
    "df[\"PreviousDistrict\"] = df[\"PreviousDistrict\"].fillna(df[\"Previous Region\"].mode()[0])\n",
    "df[\"Arrival_Year\"] = df[\"Arrival_Year\"].fillna(df[\"Arrival_Year\"].mode()[0])\n",
    "df[\"Arrival_Month\"] = df[\"Arrival_Month\"].fillna(df[\"Arrival_Month\"].mode()[0])"
   ]
  },
  {
   "cell_type": "code",
   "execution_count": 12,
   "id": "851b9b9c-1d33-4b01-b717-1aa92c83d57d",
   "metadata": {},
   "outputs": [],
   "source": [
    "df = df.drop_duplicates()"
   ]
  },
  {
   "cell_type": "code",
   "execution_count": null,
   "id": "1d2d60a9-d801-41d5-9340-2a9a22ebe649",
   "metadata": {},
   "outputs": [],
   "source": []
  }
 ],
 "metadata": {
  "kernelspec": {
   "display_name": "Python [conda env:base] *",
   "language": "python",
   "name": "conda-base-py"
  },
  "language_info": {
   "codemirror_mode": {
    "name": "ipython",
    "version": 3
   },
   "file_extension": ".py",
   "mimetype": "text/x-python",
   "name": "python",
   "nbconvert_exporter": "python",
   "pygments_lexer": "ipython3",
   "version": "3.13.5"
  }
 },
 "nbformat": 4,
 "nbformat_minor": 5
}
