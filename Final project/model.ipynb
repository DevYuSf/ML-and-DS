{
 "cells": [
  {
   "cell_type": "code",
   "execution_count": 1,
   "id": "af7ce651-f8ac-4fe2-935e-3fd6014b2874",
   "metadata": {},
   "outputs": [],
   "source": [
    "import pandas as pd\n",
    "import glob\n",
    "from sklearn.model_selection import train_test_split\n",
    "from sklearn.linear_model import LogisticRegression\n",
    "from sklearn.ensemble import RandomForestClassifier\n",
    "from sklearn.metrics import accuracy_score, precision_score, recall_score, f1_score, confusion_matrix\n"
   ]
  },
  {
   "cell_type": "code",
   "execution_count": 2,
   "id": "34897174-b61a-4975-96d1-d743d95ea495",
   "metadata": {},
   "outputs": [
    {
     "name": "stdout",
     "output_type": "stream",
     "text": [
      "Shape after merge: (77646, 20)\n"
     ]
    }
   ],
   "source": [
    "folder_path = \"*.csv\"\n",
    "# Read and merge all CSV files\n",
    "files = glob.glob(folder_path)\n",
    "df = pd.concat([pd.read_csv(f) for f in files], ignore_index=True)\n",
    "\n",
    "print(\"Shape after merge:\", df.shape)"
   ]
  },
  {
   "cell_type": "code",
   "execution_count": 3,
   "id": "9f859249-9fe1-4f25-a776-1a254786d416",
   "metadata": {},
   "outputs": [
    {
     "name": "stdout",
     "output_type": "stream",
     "text": [
      "<class 'pandas.core.frame.DataFrame'>\n",
      "RangeIndex: 77646 entries, 0 to 77645\n",
      "Data columns (total 20 columns):\n",
      " #   Column               Non-Null Count  Dtype \n",
      "---  ------               --------------  ----- \n",
      " 0   Current Region       77631 non-null  object\n",
      " 1   CurrentDistrict      77646 non-null  object\n",
      " 2   Previous Region      77644 non-null  object\n",
      " 3   PreviousDistrict     77644 non-null  object\n",
      " 4   Arrival              77646 non-null  object\n",
      " 5   ZoneName             77646 non-null  object\n",
      " 6   OrganisationAcronym  77646 non-null  object\n",
      " 7   0-4M                 77646 non-null  int64 \n",
      " 8   0-4F                 77646 non-null  int64 \n",
      " 9   5-11M                77646 non-null  int64 \n",
      " 10  5-11F                77646 non-null  int64 \n",
      " 11  12-17M               77646 non-null  int64 \n",
      " 12  12-17F               77646 non-null  int64 \n",
      " 13  18_59M               77646 non-null  int64 \n",
      " 14  18_59F               77646 non-null  int64 \n",
      " 15  60+M                 77646 non-null  int64 \n",
      " 16  60+F                 77646 non-null  int64 \n",
      " 17  Individuals          77646 non-null  int64 \n",
      " 18  Category             77646 non-null  object\n",
      " 19  Need                 75099 non-null  object\n",
      "dtypes: int64(11), object(9)\n",
      "memory usage: 11.8+ MB\n",
      "None\n"
     ]
    }
   ],
   "source": [
    "print(df.info())"
   ]
  },
  {
   "cell_type": "code",
   "execution_count": 4,
   "id": "98642506-d0f4-4414-b0f6-cb9d4a968e8b",
   "metadata": {},
   "outputs": [],
   "source": [
    "# Convert Arrival to datetime and extract useful features\n",
    "df[\"Arrival\"] = pd.to_datetime(df[\"Arrival\"], errors=\"coerce\")\n",
    "df[\"Arrival_Year\"] = df[\"Arrival\"].dt.year\n",
    "df[\"Arrival_Month\"] = df[\"Arrival\"].dt.month\n"
   ]
  },
  {
   "cell_type": "code",
   "execution_count": 5,
   "id": "baed0547-45a3-42c4-b88a-fd17dad5cdc3",
   "metadata": {},
   "outputs": [],
   "source": [
    "# df = df.drop(columns=[\"OrganisationAcronym\", \"Category\"])\n",
    "df = df.drop(columns=[\"Arrival\"])\n",
    "\n"
   ]
  },
  {
   "cell_type": "code",
   "execution_count": 6,
   "id": "136f09b5-8ea9-4da7-bbec-6cf81552fd91",
   "metadata": {},
   "outputs": [],
   "source": [
    "df = df.rename(columns={\n",
    "    \"0-4M\": \"Age0_4_Male\",\n",
    "    \"0-4F\": \"Age0_4_Female\",\n",
    "    \"5-11M\": \"Age5_11_Male\",\n",
    "    \"5-11F\": \"Age5_11_Female\",\n",
    "    \"12-17M\": \"Age12_17_Male\",\n",
    "    \"12-17F\": \"Age12_17_Female\",\n",
    "    \"18_59M\": \"Age18_59_Male\",\n",
    "    \"18_59F\": \"Age18_59_Female\",\n",
    "    \"60+M\": \"Age60plus_Male\",\n",
    "    \"60+F\": \"Age60plus_Female\"\n",
    "})\n"
   ]
  },
  {
   "cell_type": "code",
   "execution_count": 7,
   "id": "fe16e61b-4fbe-4ed3-b490-25bd10a5e44d",
   "metadata": {},
   "outputs": [
    {
     "name": "stdout",
     "output_type": "stream",
     "text": [
      "<class 'pandas.core.frame.DataFrame'>\n",
      "RangeIndex: 77646 entries, 0 to 77645\n",
      "Data columns (total 21 columns):\n",
      " #   Column               Non-Null Count  Dtype  \n",
      "---  ------               --------------  -----  \n",
      " 0   Current Region       77631 non-null  object \n",
      " 1   CurrentDistrict      77646 non-null  object \n",
      " 2   Previous Region      77644 non-null  object \n",
      " 3   PreviousDistrict     77644 non-null  object \n",
      " 4   ZoneName             77646 non-null  object \n",
      " 5   OrganisationAcronym  77646 non-null  object \n",
      " 6   Age0_4_Male          77646 non-null  int64  \n",
      " 7   Age0_4_Female        77646 non-null  int64  \n",
      " 8   Age5_11_Male         77646 non-null  int64  \n",
      " 9   Age5_11_Female       77646 non-null  int64  \n",
      " 10  Age12_17_Male        77646 non-null  int64  \n",
      " 11  Age12_17_Female      77646 non-null  int64  \n",
      " 12  Age18_59_Male        77646 non-null  int64  \n",
      " 13  Age18_59_Female      77646 non-null  int64  \n",
      " 14  Age60plus_Male       77646 non-null  int64  \n",
      " 15  Age60plus_Female     77646 non-null  int64  \n",
      " 16  Individuals          77646 non-null  int64  \n",
      " 17  Category             77646 non-null  object \n",
      " 18  Need                 75099 non-null  object \n",
      " 19  Arrival_Year         77260 non-null  float64\n",
      " 20  Arrival_Month        77260 non-null  float64\n",
      "dtypes: float64(2), int64(11), object(8)\n",
      "memory usage: 12.4+ MB\n",
      "None\n"
     ]
    }
   ],
   "source": [
    "print(df.info())"
   ]
  },
  {
   "cell_type": "code",
   "execution_count": 8,
   "id": "76aed01d-c3b5-4711-97f7-f048ce50e076",
   "metadata": {},
   "outputs": [],
   "source": [
    "df[\"Current Region\"] = df[\"Current Region\"].fillna(df[\"Current Region\"].mode()[0])\n",
    "df[\"Previous Region\"] = df[\"Previous Region\"].fillna(df[\"Previous Region\"].mode()[0])\n",
    "df[\"PreviousDistrict\"] = df[\"PreviousDistrict\"].fillna(df[\"Previous Region\"].mode()[0])\n",
    "df[\"Arrival_Year\"] = df[\"Arrival_Year\"].fillna(df[\"Arrival_Year\"].mode()[0])\n",
    "df[\"Arrival_Month\"] = df[\"Arrival_Month\"].fillna(df[\"Arrival_Month\"].mode()[0])"
   ]
  },
  {
   "cell_type": "code",
   "execution_count": 9,
   "id": "851b9b9c-1d33-4b01-b717-1aa92c83d57d",
   "metadata": {},
   "outputs": [],
   "source": [
    "df = df.drop_duplicates()"
   ]
  },
  {
   "cell_type": "code",
   "execution_count": 10,
   "id": "1d2d60a9-d801-41d5-9340-2a9a22ebe649",
   "metadata": {},
   "outputs": [
    {
     "name": "stdout",
     "output_type": "stream",
     "text": [
      "0    5\n",
      "1    6\n",
      "2    6\n",
      "3    4\n",
      "4    6\n",
      "Name: Individuals, dtype: int64\n"
     ]
    }
   ],
   "source": [
    "print(df[\"Individuals\"].head())"
   ]
  },
  {
   "cell_type": "code",
   "execution_count": 11,
   "id": "680b7755-eb26-43b9-be76-01f590f97916",
   "metadata": {},
   "outputs": [],
   "source": [
    "# Training data (Need is known)\n",
    "train_df = df[df[\"Need\"].notnull()].copy()\n",
    "# Prediction data (Need is missing, to predict later)\n",
    "predict_df = df[df[\"Need\"].isnull()].copy()\n"
   ]
  },
  {
   "cell_type": "code",
   "execution_count": 12,
   "id": "8a136e73-f830-414f-9c3d-4d4b9eb7c8a2",
   "metadata": {},
   "outputs": [
    {
     "name": "stdout",
     "output_type": "stream",
     "text": [
      "<class 'pandas.core.frame.DataFrame'>\n",
      "Index: 60776 entries, 5 to 77645\n",
      "Data columns (total 21 columns):\n",
      " #   Column               Non-Null Count  Dtype  \n",
      "---  ------               --------------  -----  \n",
      " 0   Current Region       60776 non-null  object \n",
      " 1   CurrentDistrict      60776 non-null  object \n",
      " 2   Previous Region      60776 non-null  object \n",
      " 3   PreviousDistrict     60776 non-null  object \n",
      " 4   ZoneName             60776 non-null  object \n",
      " 5   OrganisationAcronym  60776 non-null  object \n",
      " 6   Age0_4_Male          60776 non-null  int64  \n",
      " 7   Age0_4_Female        60776 non-null  int64  \n",
      " 8   Age5_11_Male         60776 non-null  int64  \n",
      " 9   Age5_11_Female       60776 non-null  int64  \n",
      " 10  Age12_17_Male        60776 non-null  int64  \n",
      " 11  Age12_17_Female      60776 non-null  int64  \n",
      " 12  Age18_59_Male        60776 non-null  int64  \n",
      " 13  Age18_59_Female      60776 non-null  int64  \n",
      " 14  Age60plus_Male       60776 non-null  int64  \n",
      " 15  Age60plus_Female     60776 non-null  int64  \n",
      " 16  Individuals          60776 non-null  int64  \n",
      " 17  Category             60776 non-null  object \n",
      " 18  Need                 60776 non-null  object \n",
      " 19  Arrival_Year         60776 non-null  float64\n",
      " 20  Arrival_Month        60776 non-null  float64\n",
      "dtypes: float64(2), int64(11), object(8)\n",
      "memory usage: 10.2+ MB\n",
      "None\n"
     ]
    }
   ],
   "source": [
    "print(train_df.info())"
   ]
  },
  {
   "cell_type": "code",
   "execution_count": 13,
   "id": "95239f1b-dba1-4caf-977f-bbb8ca9434f3",
   "metadata": {},
   "outputs": [
    {
     "name": "stdout",
     "output_type": "stream",
     "text": [
      "(60776, 21)\n",
      "(2246, 21)\n"
     ]
    }
   ],
   "source": [
    "print(train_df.shape)\n",
    "print(predict_df.shape)"
   ]
  },
  {
   "cell_type": "code",
   "execution_count": 14,
   "id": "cce48905-c904-439d-840b-6ce5294874b4",
   "metadata": {},
   "outputs": [],
   "source": [
    "# Features and labels\n",
    "X = train_df.drop(columns=[\"Need\"])   \n",
    "y = train_df[\"Need\"]                 \n"
   ]
  },
  {
   "cell_type": "raw",
   "id": "d26f4e07-f7ee-400f-a720-6ccba87b91b5",
   "metadata": {},
   "source": []
  },
  {
   "cell_type": "code",
   "execution_count": 15,
   "id": "a137c4fe-5cca-4d86-a047-806b61bc6c08",
   "metadata": {},
   "outputs": [
    {
     "ename": "ValueError",
     "evalue": "invalid literal for int() with base 10: 'SEDHURO'",
     "output_type": "error",
     "traceback": [
      "\u001b[1;31m---------------------------------------------------------------------------\u001b[0m",
      "\u001b[1;31mValueError\u001b[0m                                Traceback (most recent call last)",
      "Cell \u001b[1;32mIn[15], line 6\u001b[0m\n\u001b[0;32m      1\u001b[0m \u001b[38;5;66;03m# One-hot encode categorical variables\u001b[39;00m\n\u001b[0;32m      2\u001b[0m X_encoded \u001b[38;5;241m=\u001b[39m pd\u001b[38;5;241m.\u001b[39mget_dummies(\n\u001b[0;32m      3\u001b[0m     X,\n\u001b[0;32m      4\u001b[0m     columns\u001b[38;5;241m=\u001b[39m[\u001b[38;5;124m\"\u001b[39m\u001b[38;5;124mCurrent Region\u001b[39m\u001b[38;5;124m\"\u001b[39m, \u001b[38;5;124m\"\u001b[39m\u001b[38;5;124mCurrentDistrict\u001b[39m\u001b[38;5;124m\"\u001b[39m, \u001b[38;5;124m\"\u001b[39m\u001b[38;5;124mPrevious Region\u001b[39m\u001b[38;5;124m\"\u001b[39m, \u001b[38;5;124m\"\u001b[39m\u001b[38;5;124mPreviousDistrict\u001b[39m\u001b[38;5;124m\"\u001b[39m, \u001b[38;5;124m\"\u001b[39m\u001b[38;5;124mZoneName\u001b[39m\u001b[38;5;124m\"\u001b[39m],\n\u001b[0;32m      5\u001b[0m     drop_first\u001b[38;5;241m=\u001b[39m\u001b[38;5;28;01mTrue\u001b[39;00m  \n\u001b[1;32m----> 6\u001b[0m )\u001b[38;5;241m.\u001b[39mastype(\u001b[38;5;28mint\u001b[39m)\n",
      "File \u001b[1;32m~\\anaconda3\\Lib\\site-packages\\pandas\\core\\generic.py:6643\u001b[0m, in \u001b[0;36mNDFrame.astype\u001b[1;34m(self, dtype, copy, errors)\u001b[0m\n\u001b[0;32m   6637\u001b[0m     results \u001b[38;5;241m=\u001b[39m [\n\u001b[0;32m   6638\u001b[0m         ser\u001b[38;5;241m.\u001b[39mastype(dtype, copy\u001b[38;5;241m=\u001b[39mcopy, errors\u001b[38;5;241m=\u001b[39merrors) \u001b[38;5;28;01mfor\u001b[39;00m _, ser \u001b[38;5;129;01min\u001b[39;00m \u001b[38;5;28mself\u001b[39m\u001b[38;5;241m.\u001b[39mitems()\n\u001b[0;32m   6639\u001b[0m     ]\n\u001b[0;32m   6641\u001b[0m \u001b[38;5;28;01melse\u001b[39;00m:\n\u001b[0;32m   6642\u001b[0m     \u001b[38;5;66;03m# else, only a single dtype is given\u001b[39;00m\n\u001b[1;32m-> 6643\u001b[0m     new_data \u001b[38;5;241m=\u001b[39m \u001b[38;5;28mself\u001b[39m\u001b[38;5;241m.\u001b[39m_mgr\u001b[38;5;241m.\u001b[39mastype(dtype\u001b[38;5;241m=\u001b[39mdtype, copy\u001b[38;5;241m=\u001b[39mcopy, errors\u001b[38;5;241m=\u001b[39merrors)\n\u001b[0;32m   6644\u001b[0m     res \u001b[38;5;241m=\u001b[39m \u001b[38;5;28mself\u001b[39m\u001b[38;5;241m.\u001b[39m_constructor_from_mgr(new_data, axes\u001b[38;5;241m=\u001b[39mnew_data\u001b[38;5;241m.\u001b[39maxes)\n\u001b[0;32m   6645\u001b[0m     \u001b[38;5;28;01mreturn\u001b[39;00m res\u001b[38;5;241m.\u001b[39m__finalize__(\u001b[38;5;28mself\u001b[39m, method\u001b[38;5;241m=\u001b[39m\u001b[38;5;124m\"\u001b[39m\u001b[38;5;124mastype\u001b[39m\u001b[38;5;124m\"\u001b[39m)\n",
      "File \u001b[1;32m~\\anaconda3\\Lib\\site-packages\\pandas\\core\\internals\\managers.py:430\u001b[0m, in \u001b[0;36mBaseBlockManager.astype\u001b[1;34m(self, dtype, copy, errors)\u001b[0m\n\u001b[0;32m    427\u001b[0m \u001b[38;5;28;01melif\u001b[39;00m using_copy_on_write():\n\u001b[0;32m    428\u001b[0m     copy \u001b[38;5;241m=\u001b[39m \u001b[38;5;28;01mFalse\u001b[39;00m\n\u001b[1;32m--> 430\u001b[0m \u001b[38;5;28;01mreturn\u001b[39;00m \u001b[38;5;28mself\u001b[39m\u001b[38;5;241m.\u001b[39mapply(\n\u001b[0;32m    431\u001b[0m     \u001b[38;5;124m\"\u001b[39m\u001b[38;5;124mastype\u001b[39m\u001b[38;5;124m\"\u001b[39m,\n\u001b[0;32m    432\u001b[0m     dtype\u001b[38;5;241m=\u001b[39mdtype,\n\u001b[0;32m    433\u001b[0m     copy\u001b[38;5;241m=\u001b[39mcopy,\n\u001b[0;32m    434\u001b[0m     errors\u001b[38;5;241m=\u001b[39merrors,\n\u001b[0;32m    435\u001b[0m     using_cow\u001b[38;5;241m=\u001b[39musing_copy_on_write(),\n\u001b[0;32m    436\u001b[0m )\n",
      "File \u001b[1;32m~\\anaconda3\\Lib\\site-packages\\pandas\\core\\internals\\managers.py:363\u001b[0m, in \u001b[0;36mBaseBlockManager.apply\u001b[1;34m(self, f, align_keys, **kwargs)\u001b[0m\n\u001b[0;32m    361\u001b[0m         applied \u001b[38;5;241m=\u001b[39m b\u001b[38;5;241m.\u001b[39mapply(f, \u001b[38;5;241m*\u001b[39m\u001b[38;5;241m*\u001b[39mkwargs)\n\u001b[0;32m    362\u001b[0m     \u001b[38;5;28;01melse\u001b[39;00m:\n\u001b[1;32m--> 363\u001b[0m         applied \u001b[38;5;241m=\u001b[39m \u001b[38;5;28mgetattr\u001b[39m(b, f)(\u001b[38;5;241m*\u001b[39m\u001b[38;5;241m*\u001b[39mkwargs)\n\u001b[0;32m    364\u001b[0m     result_blocks \u001b[38;5;241m=\u001b[39m extend_blocks(applied, result_blocks)\n\u001b[0;32m    366\u001b[0m out \u001b[38;5;241m=\u001b[39m \u001b[38;5;28mtype\u001b[39m(\u001b[38;5;28mself\u001b[39m)\u001b[38;5;241m.\u001b[39mfrom_blocks(result_blocks, \u001b[38;5;28mself\u001b[39m\u001b[38;5;241m.\u001b[39maxes)\n",
      "File \u001b[1;32m~\\anaconda3\\Lib\\site-packages\\pandas\\core\\internals\\blocks.py:758\u001b[0m, in \u001b[0;36mBlock.astype\u001b[1;34m(self, dtype, copy, errors, using_cow, squeeze)\u001b[0m\n\u001b[0;32m    755\u001b[0m         \u001b[38;5;28;01mraise\u001b[39;00m \u001b[38;5;167;01mValueError\u001b[39;00m(\u001b[38;5;124m\"\u001b[39m\u001b[38;5;124mCan not squeeze with more than one column.\u001b[39m\u001b[38;5;124m\"\u001b[39m)\n\u001b[0;32m    756\u001b[0m     values \u001b[38;5;241m=\u001b[39m values[\u001b[38;5;241m0\u001b[39m, :]  \u001b[38;5;66;03m# type: ignore[call-overload]\u001b[39;00m\n\u001b[1;32m--> 758\u001b[0m new_values \u001b[38;5;241m=\u001b[39m astype_array_safe(values, dtype, copy\u001b[38;5;241m=\u001b[39mcopy, errors\u001b[38;5;241m=\u001b[39merrors)\n\u001b[0;32m    760\u001b[0m new_values \u001b[38;5;241m=\u001b[39m maybe_coerce_values(new_values)\n\u001b[0;32m    762\u001b[0m refs \u001b[38;5;241m=\u001b[39m \u001b[38;5;28;01mNone\u001b[39;00m\n",
      "File \u001b[1;32m~\\anaconda3\\Lib\\site-packages\\pandas\\core\\dtypes\\astype.py:237\u001b[0m, in \u001b[0;36mastype_array_safe\u001b[1;34m(values, dtype, copy, errors)\u001b[0m\n\u001b[0;32m    234\u001b[0m     dtype \u001b[38;5;241m=\u001b[39m dtype\u001b[38;5;241m.\u001b[39mnumpy_dtype\n\u001b[0;32m    236\u001b[0m \u001b[38;5;28;01mtry\u001b[39;00m:\n\u001b[1;32m--> 237\u001b[0m     new_values \u001b[38;5;241m=\u001b[39m astype_array(values, dtype, copy\u001b[38;5;241m=\u001b[39mcopy)\n\u001b[0;32m    238\u001b[0m \u001b[38;5;28;01mexcept\u001b[39;00m (\u001b[38;5;167;01mValueError\u001b[39;00m, \u001b[38;5;167;01mTypeError\u001b[39;00m):\n\u001b[0;32m    239\u001b[0m     \u001b[38;5;66;03m# e.g. _astype_nansafe can fail on object-dtype of strings\u001b[39;00m\n\u001b[0;32m    240\u001b[0m     \u001b[38;5;66;03m#  trying to convert to float\u001b[39;00m\n\u001b[0;32m    241\u001b[0m     \u001b[38;5;28;01mif\u001b[39;00m errors \u001b[38;5;241m==\u001b[39m \u001b[38;5;124m\"\u001b[39m\u001b[38;5;124mignore\u001b[39m\u001b[38;5;124m\"\u001b[39m:\n",
      "File \u001b[1;32m~\\anaconda3\\Lib\\site-packages\\pandas\\core\\dtypes\\astype.py:182\u001b[0m, in \u001b[0;36mastype_array\u001b[1;34m(values, dtype, copy)\u001b[0m\n\u001b[0;32m    179\u001b[0m     values \u001b[38;5;241m=\u001b[39m values\u001b[38;5;241m.\u001b[39mastype(dtype, copy\u001b[38;5;241m=\u001b[39mcopy)\n\u001b[0;32m    181\u001b[0m \u001b[38;5;28;01melse\u001b[39;00m:\n\u001b[1;32m--> 182\u001b[0m     values \u001b[38;5;241m=\u001b[39m _astype_nansafe(values, dtype, copy\u001b[38;5;241m=\u001b[39mcopy)\n\u001b[0;32m    184\u001b[0m \u001b[38;5;66;03m# in pandas we don't store numpy str dtypes, so convert to object\u001b[39;00m\n\u001b[0;32m    185\u001b[0m \u001b[38;5;28;01mif\u001b[39;00m \u001b[38;5;28misinstance\u001b[39m(dtype, np\u001b[38;5;241m.\u001b[39mdtype) \u001b[38;5;129;01mand\u001b[39;00m \u001b[38;5;28missubclass\u001b[39m(values\u001b[38;5;241m.\u001b[39mdtype\u001b[38;5;241m.\u001b[39mtype, \u001b[38;5;28mstr\u001b[39m):\n",
      "File \u001b[1;32m~\\anaconda3\\Lib\\site-packages\\pandas\\core\\dtypes\\astype.py:133\u001b[0m, in \u001b[0;36m_astype_nansafe\u001b[1;34m(arr, dtype, copy, skipna)\u001b[0m\n\u001b[0;32m    129\u001b[0m     \u001b[38;5;28;01mraise\u001b[39;00m \u001b[38;5;167;01mValueError\u001b[39;00m(msg)\n\u001b[0;32m    131\u001b[0m \u001b[38;5;28;01mif\u001b[39;00m copy \u001b[38;5;129;01mor\u001b[39;00m arr\u001b[38;5;241m.\u001b[39mdtype \u001b[38;5;241m==\u001b[39m \u001b[38;5;28mobject\u001b[39m \u001b[38;5;129;01mor\u001b[39;00m dtype \u001b[38;5;241m==\u001b[39m \u001b[38;5;28mobject\u001b[39m:\n\u001b[0;32m    132\u001b[0m     \u001b[38;5;66;03m# Explicit copy, or required since NumPy can't view from / to object.\u001b[39;00m\n\u001b[1;32m--> 133\u001b[0m     \u001b[38;5;28;01mreturn\u001b[39;00m arr\u001b[38;5;241m.\u001b[39mastype(dtype, copy\u001b[38;5;241m=\u001b[39m\u001b[38;5;28;01mTrue\u001b[39;00m)\n\u001b[0;32m    135\u001b[0m \u001b[38;5;28;01mreturn\u001b[39;00m arr\u001b[38;5;241m.\u001b[39mastype(dtype, copy\u001b[38;5;241m=\u001b[39mcopy)\n",
      "\u001b[1;31mValueError\u001b[0m: invalid literal for int() with base 10: 'SEDHURO'"
     ]
    }
   ],
   "source": [
    "# One-hot encode categorical variables\n",
    "X_encoded = pd.get_dummies(\n",
    "    X,\n",
    "    columns=[\"Current Region\", \"CurrentDistrict\", \"Previous Region\", \"PreviousDistrict\", \"ZoneName\"],\n",
    "    drop_first=True  \n",
    ").astype(int)\n"
   ]
  },
  {
   "cell_type": "code",
   "execution_count": null,
   "id": "5cf65477-3b98-4df4-971c-34da04f48ba9",
   "metadata": {},
   "outputs": [],
   "source": [
    "predict_encoded = pd.get_dummies(\n",
    "    predict_df.drop(columns=[\"Need\"]),\n",
    "    columns=[\"Current Region\", \"CurrentDistrict\", \"Previous Region\", \"PreviousDistrict\", \"ZoneName\"],\n",
    "    drop_first=True\n",
    ").astype(int)\n",
    "# Align columns (this will make sure training and prediction sets have same structure)\n",
    "predict_encoded = predict_encoded.reindex(columns=X_encoded.columns, fill_value=0)\n"
   ]
  },
  {
   "cell_type": "code",
   "execution_count": 18,
   "id": "e50ca28d-93ef-4e09-be43-68e31da572d7",
   "metadata": {},
   "outputs": [
    {
     "ename": "NameError",
     "evalue": "name 'X_encoded' is not defined",
     "output_type": "error",
     "traceback": [
      "\u001b[1;31m---------------------------------------------------------------------------\u001b[0m",
      "\u001b[1;31mNameError\u001b[0m                                 Traceback (most recent call last)",
      "Cell \u001b[1;32mIn[18], line 2\u001b[0m\n\u001b[0;32m      1\u001b[0m X_train, X_val, y_train, y_val \u001b[38;5;241m=\u001b[39m train_test_split(\n\u001b[1;32m----> 2\u001b[0m     X_encoded, y, test_size\u001b[38;5;241m=\u001b[39m\u001b[38;5;241m0.2\u001b[39m, random_state\u001b[38;5;241m=\u001b[39m\u001b[38;5;241m42\u001b[39m, stratify\u001b[38;5;241m=\u001b[39my\n\u001b[0;32m      3\u001b[0m )\n",
      "\u001b[1;31mNameError\u001b[0m: name 'X_encoded' is not defined"
     ]
    }
   ],
   "source": [
    "\n",
    "X_train, X_val, y_train, y_val = train_test_split(\n",
    "    X_encoded, y, test_size=0.2, random_state=42, stratify=y\n",
    ")\n"
   ]
  },
  {
   "cell_type": "code",
   "execution_count": null,
   "id": "b3f5eed4-35e7-4947-a330-527b3f0490d2",
   "metadata": {},
   "outputs": [],
   "source": [
    "# Logistic Regression\n",
    "lr = LogisticRegression(max_iter=5000, random_state=42,class_weight=\"balanced\")\n",
    "lr.fit(X_train, y_train)\n",
    "\n",
    "# Random Forest\n",
    "rf = RandomForestClassifier(n_estimators=100, random_state=42,class_weight=\"balanced\")\n",
    "rf.fit(X_train, y_train)\n",
    "# LogisticRegression(class_weight=\"balanced\")\n",
    "# RandomForestClassifier(class_weight=\"balanced\")\n"
   ]
  },
  {
   "cell_type": "code",
   "execution_count": null,
   "id": "3e4eeb0e-18f2-43f8-8f3f-7b411d7fb645",
   "metadata": {},
   "outputs": [],
   "source": [
    "def evaluate(model, X_val, y_val, name):\n",
    "    y_pred = model.predict(X_val)\n",
    "    print(f\"\\n{name} Results:\")\n",
    "    print(f\"Accuracy: {accuracy_score(y_val, y_pred):.3f}\")\n",
    "    print(f\"Precision: {precision_score(y_val, y_pred, average='weighted'):.3f}\")\n",
    "    print(f\"Recall: {recall_score(y_val, y_pred, average='weighted'):.3f}\")\n",
    "    print(f\"F1 Score: {f1_score(y_val, y_pred, average='weighted'):.3f}\")\n",
    "    # print(\"Confusion Matrix:\")\n",
    "    # print(confusion_matrix(y_val, y_pred))"
   ]
  },
  {
   "cell_type": "code",
   "execution_count": null,
   "id": "ed151d81-45e6-4495-9161-a40faae77af7",
   "metadata": {},
   "outputs": [],
   "source": [
    "evaluate(lr, X_val, y_val, \"Logistic Regression\")\n",
    "evaluate(rf, X_val, y_val, \"Random Forest\")"
   ]
  },
  {
   "cell_type": "code",
   "execution_count": null,
   "id": "c97458a4-3292-4ad7-9abe-4c5d6147a366",
   "metadata": {},
   "outputs": [],
   "source": [
    "print(train_df[\"Need\"].value_counts(dropna=False))\n"
   ]
  },
  {
   "cell_type": "code",
   "execution_count": null,
   "id": "3056d449-2255-434f-ba71-bd8360e7e083",
   "metadata": {},
   "outputs": [],
   "source": [
    "print(train_df.head())"
   ]
  },
  {
   "cell_type": "code",
   "execution_count": null,
   "id": "7ecb7817-715b-4e3c-9246-853fc79943d1",
   "metadata": {},
   "outputs": [],
   "source": [
    "print(train_df.info())"
   ]
  },
  {
   "cell_type": "code",
   "execution_count": null,
   "id": "4ffdc29f-a8fa-4873-a555-e049f87487c7",
   "metadata": {},
   "outputs": [],
   "source": [
    "print(X.info())"
   ]
  },
  {
   "cell_type": "code",
   "execution_count": null,
   "id": "456784b7-1a27-49d6-bb79-305bd31a0c66",
   "metadata": {},
   "outputs": [],
   "source": [
    "print(X_encoded.info())"
   ]
  },
  {
   "cell_type": "code",
   "execution_count": null,
   "id": "12e43212-b41c-49ad-93b2-cec580be583f",
   "metadata": {},
   "outputs": [],
   "source": [
    "from sklearn.model_selection import RandomizedSearchCV, StratifiedKFold\n",
    "import numpy as np\n",
    "\n",
    "# Define parameter grid for Random Forest\n",
    "param_dist = {\n",
    "    'n_estimators': [100, 200, 300, 500],\n",
    "    'max_depth': [None, 10, 20, 30, 50],\n",
    "    'min_samples_split': [2, 5, 10],\n",
    "    'min_samples_leaf': [1, 2, 4],\n",
    "    'max_features': ['sqrt', 'log2', None],\n",
    "    'bootstrap': [True, False]\n",
    "}\n",
    "\n",
    "# StratifiedKFold is good for classification, especially with imbalanced data\n",
    "cv_strategy = StratifiedKFold(n_splits=5, shuffle=True, random_state=42)\n",
    "\n",
    "# Create the randomized search object\n",
    "rf_random_search = RandomizedSearchCV(\n",
    "    estimator=rf,\n",
    "    param_distributions=param_dist,\n",
    "    n_iter=30,  # Number of random combinations to try\n",
    "    cv=cv_strategy,\n",
    "    verbose=2,\n",
    "    n_jobs=-1,\n",
    "    scoring='f1_macro',  # Good metric for imbalanced multiclass\n",
    "    random_state=42\n",
    ")\n",
    "\n",
    "# Fit the search to the data\n",
    "rf_random_search.fit(X_train, y_train)\n",
    "\n",
    "print(\"Best Parameters:\", rf_random_search.best_params_)\n",
    "print(\"Best CV Score (f1_macro):\", rf_random_search.best_score_)\n"
   ]
  },
  {
   "cell_type": "code",
   "execution_count": null,
   "id": "e2291050-0d0a-44fe-a238-61db8d500f25",
   "metadata": {},
   "outputs": [],
   "source": [
    "from sklearn.metrics import classification_report, accuracy_score\n",
    "\n",
    "# Retrieve the best model\n",
    "best_rf = rf_random_search.best_estimator_\n",
    "\n",
    "# Evaluate on test set\n",
    "y_pred = best_rf.predict(X_test)\n",
    "print(\"Accuracy:\", accuracy_score(y_test, y_pred))\n",
    "print(\"Classification Report:\")\n",
    "print(classification_report(y_test, y_pred))\n"
   ]
  },
  {
   "cell_type": "code",
   "execution_count": 17,
   "id": "e2eb975b-b235-4f62-b645-fe79b54ef418",
   "metadata": {},
   "outputs": [
    {
     "ename": "NameError",
     "evalue": "name 'y_test' is not defined",
     "output_type": "error",
     "traceback": [
      "\u001b[1;31m---------------------------------------------------------------------------\u001b[0m",
      "\u001b[1;31mNameError\u001b[0m                                 Traceback (most recent call last)",
      "Cell \u001b[1;32mIn[17], line 1\u001b[0m\n\u001b[1;32m----> 1\u001b[0m \u001b[38;5;28mprint\u001b[39m(\u001b[38;5;124m\"\u001b[39m\u001b[38;5;124mAccuracy:\u001b[39m\u001b[38;5;124m\"\u001b[39m, accuracy_score(y_test, y_pred))\n\u001b[0;32m      2\u001b[0m \u001b[38;5;28mprint\u001b[39m(\u001b[38;5;124m\"\u001b[39m\u001b[38;5;124mClassification Report:\u001b[39m\u001b[38;5;124m\"\u001b[39m)\n\u001b[0;32m      3\u001b[0m \u001b[38;5;28mprint\u001b[39m(classification_report(y_test, y_pred))\n",
      "\u001b[1;31mNameError\u001b[0m: name 'y_test' is not defined"
     ]
    }
   ],
   "source": [
    "print(\"Accuracy:\", accuracy_score(y_test, y_pred))\n",
    "print(\"Classification Report:\")\n",
    "print(classification_report(y_test, y_pred))"
   ]
  },
  {
   "cell_type": "code",
   "execution_count": null,
   "id": "6069e1a3-9bf5-4c90-a9e2-62220f4a329e",
   "metadata": {},
   "outputs": [],
   "source": []
  }
 ],
 "metadata": {
  "kernelspec": {
   "display_name": "Python [conda env:base] *",
   "language": "python",
   "name": "conda-base-py"
  },
  "language_info": {
   "codemirror_mode": {
    "name": "ipython",
    "version": 3
   },
   "file_extension": ".py",
   "mimetype": "text/x-python",
   "name": "python",
   "nbconvert_exporter": "python",
   "pygments_lexer": "ipython3",
   "version": "3.13.5"
  }
 },
 "nbformat": 4,
 "nbformat_minor": 5
}
