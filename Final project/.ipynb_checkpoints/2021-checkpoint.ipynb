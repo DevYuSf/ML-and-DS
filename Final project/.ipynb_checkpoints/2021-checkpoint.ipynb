{
 "cells": [
  {
   "cell_type": "code",
   "execution_count": 1,
   "id": "50a73a58-3875-4410-b58b-e178c2b07ac5",
   "metadata": {},
   "outputs": [],
   "source": [
    "import pandas as pd"
   ]
  },
  {
   "cell_type": "code",
   "execution_count": 2,
   "id": "2884871d-5758-4ab0-a6f4-d1ada534dfdd",
   "metadata": {},
   "outputs": [],
   "source": [
    "df = pd.read_csv(\"2021.csv\")"
   ]
  },
  {
   "cell_type": "code",
   "execution_count": 3,
   "id": "d7bca25d-a3b1-4d35-9dee-4d46f45ae701",
   "metadata": {},
   "outputs": [
    {
     "name": "stdout",
     "output_type": "stream",
     "text": [
      "<class 'pandas.core.frame.DataFrame'>\n",
      "RangeIndex: 18368 entries, 0 to 18367\n",
      "Data columns (total 20 columns):\n",
      " #   Column               Non-Null Count  Dtype \n",
      "---  ------               --------------  ----- \n",
      " 0   Current Region       18364 non-null  object\n",
      " 1   CurrentDistrict      18368 non-null  object\n",
      " 2   Previous Region      18368 non-null  object\n",
      " 3   PreviousDistrict     18368 non-null  object\n",
      " 4   Arrival              18368 non-null  object\n",
      " 5   ZoneName             18368 non-null  object\n",
      " 6   OrganisationAcronym  18368 non-null  object\n",
      " 7   0-4M                 18368 non-null  int64 \n",
      " 8   0-4F                 18368 non-null  int64 \n",
      " 9   5-11M                18368 non-null  int64 \n",
      " 10  5-11F                18368 non-null  int64 \n",
      " 11  12-17M               18368 non-null  int64 \n",
      " 12  12-17F               18368 non-null  int64 \n",
      " 13  18_59M               18368 non-null  int64 \n",
      " 14  18_59F               18368 non-null  int64 \n",
      " 15  60+M                 18368 non-null  int64 \n",
      " 16  60+F                 18368 non-null  int64 \n",
      " 17  Individuals          18368 non-null  int64 \n",
      " 18  Category             18368 non-null  object\n",
      " 19  Need                 17856 non-null  object\n",
      "dtypes: int64(11), object(9)\n",
      "memory usage: 2.8+ MB\n",
      "None\n"
     ]
    }
   ],
   "source": [
    "print(df.info())"
   ]
  },
  {
   "cell_type": "code",
   "execution_count": 4,
   "id": "81fd4e68-c5d1-4337-9e46-b0963c4bb56b",
   "metadata": {},
   "outputs": [
    {
     "name": "stderr",
     "output_type": "stream",
     "text": [
      "C:\\Users\\KCT\\AppData\\Local\\Temp\\ipykernel_17344\\3849650745.py:1: FutureWarning: A value is trying to be set on a copy of a DataFrame or Series through chained assignment using an inplace method.\n",
      "The behavior will change in pandas 3.0. This inplace method will never work because the intermediate object on which we are setting values always behaves as a copy.\n",
      "\n",
      "For example, when doing 'df[col].method(value, inplace=True)', try using 'df.method({col: value}, inplace=True)' or df[col] = df[col].method(value) instead, to perform the operation inplace on the original object.\n",
      "\n",
      "\n",
      "  df[\"Current Region\"].fillna(df[\"Current Region\"].mode()[0], inplace=True)\n"
     ]
    }
   ],
   "source": [
    "df[\"Current Region\"].fillna(df[\"Current Region\"].mode()[0], inplace=True)"
   ]
  },
  {
   "cell_type": "code",
   "execution_count": 5,
   "id": "fd967ef8-63dc-473e-b00e-cff680ca0750",
   "metadata": {},
   "outputs": [],
   "source": [
    "df_train = df[df['Need'].notnull()].copy()"
   ]
  },
  {
   "cell_type": "code",
   "execution_count": 6,
   "id": "6d582de4-71b3-4202-8f9f-4b32548fd74d",
   "metadata": {},
   "outputs": [
    {
     "name": "stdout",
     "output_type": "stream",
     "text": [
      "Current Region         0\n",
      "CurrentDistrict        0\n",
      "Previous Region        0\n",
      "PreviousDistrict       0\n",
      "Arrival                0\n",
      "ZoneName               0\n",
      "OrganisationAcronym    0\n",
      "0-4M                   0\n",
      "0-4F                   0\n",
      "5-11M                  0\n",
      "5-11F                  0\n",
      "12-17M                 0\n",
      "12-17F                 0\n",
      "18_59M                 0\n",
      "18_59F                 0\n",
      "60+M                   0\n",
      "60+F                   0\n",
      "Individuals            0\n",
      "Category               0\n",
      "Need                   0\n",
      "dtype: int64\n"
     ]
    }
   ],
   "source": [
    "print(df_train.isnull().sum())"
   ]
  },
  {
   "cell_type": "code",
   "execution_count": 8,
   "id": "699fd0b9-b826-4795-a97b-6721a577c5a4",
   "metadata": {},
   "outputs": [],
   "source": [
    "df_train = df_train.rename(columns={\n",
    "    \"0-4M\": \"Age0_4_Male\",\n",
    "    \"0-4F\": \"Age0_4_Female\",\n",
    "    \"5-11M\": \"Age5_11_Male\",\n",
    "    \"5-11F\": \"Age5_11_Female\",\n",
    "    \"12-17M\": \"Age12_17_Male\",\n",
    "    \"12-17F\": \"Age12_17_Female\",\n",
    "    \"18_59M\": \"Age18_59_Male\",\n",
    "    \"18_59F\": \"Age18_59_Female\",\n",
    "    \"60+M\": \"Age60plus_Male\",\n",
    "    \"60+F\": \"Age60plus_Female\"\n",
    "})\n"
   ]
  },
  {
   "cell_type": "code",
   "execution_count": 9,
   "id": "f240ba7e-40b2-4af9-912c-8bcac769c578",
   "metadata": {},
   "outputs": [
    {
     "name": "stdout",
     "output_type": "stream",
     "text": [
      "<class 'pandas.core.frame.DataFrame'>\n",
      "Index: 17856 entries, 0 to 18367\n",
      "Data columns (total 20 columns):\n",
      " #   Column               Non-Null Count  Dtype \n",
      "---  ------               --------------  ----- \n",
      " 0   Current Region       17856 non-null  object\n",
      " 1   CurrentDistrict      17856 non-null  object\n",
      " 2   Previous Region      17856 non-null  object\n",
      " 3   PreviousDistrict     17856 non-null  object\n",
      " 4   Arrival              17856 non-null  object\n",
      " 5   ZoneName             17856 non-null  object\n",
      " 6   OrganisationAcronym  17856 non-null  object\n",
      " 7   Age0_4_Male          17856 non-null  int64 \n",
      " 8   Age0_4_Female        17856 non-null  int64 \n",
      " 9   Age5_11_Male         17856 non-null  int64 \n",
      " 10  Age5_11_Female       17856 non-null  int64 \n",
      " 11  Age12_17_Male        17856 non-null  int64 \n",
      " 12  Age12_17_Female      17856 non-null  int64 \n",
      " 13  Age18_59_Male        17856 non-null  int64 \n",
      " 14  Age18_59_Female      17856 non-null  int64 \n",
      " 15  Age60plus_Male       17856 non-null  int64 \n",
      " 16  Age60plus_Female     17856 non-null  int64 \n",
      " 17  Individuals          17856 non-null  int64 \n",
      " 18  Category             17856 non-null  object\n",
      " 19  Need                 17856 non-null  object\n",
      "dtypes: int64(11), object(9)\n",
      "memory usage: 2.9+ MB\n",
      "None\n"
     ]
    }
   ],
   "source": [
    "print(df_train.info())"
   ]
  },
  {
   "cell_type": "code",
   "execution_count": 10,
   "id": "cffa63ef-75a5-482b-b9ca-25ef5b6232e7",
   "metadata": {},
   "outputs": [],
   "source": [
    "before = df_train.shape"
   ]
  },
  {
   "cell_type": "code",
   "execution_count": 11,
   "id": "3a72ffb7-d82c-476c-8a67-8d624fba1a4f",
   "metadata": {},
   "outputs": [
    {
     "name": "stdout",
     "output_type": "stream",
     "text": [
      "(17856, 20)\n"
     ]
    }
   ],
   "source": [
    "print(before)"
   ]
  },
  {
   "cell_type": "code",
   "execution_count": 12,
   "id": "6ac80440-89db-48ef-8409-f511c7a051bb",
   "metadata": {},
   "outputs": [],
   "source": [
    "df_train = df_train.drop_duplicates()"
   ]
  },
  {
   "cell_type": "code",
   "execution_count": 13,
   "id": "08be0ea8-475d-4905-95f8-e6aca81dff18",
   "metadata": {},
   "outputs": [
    {
     "name": "stdout",
     "output_type": "stream",
     "text": [
      "(16672, 20)\n"
     ]
    }
   ],
   "source": [
    "print(df_train.shape)"
   ]
  },
  {
   "cell_type": "code",
   "execution_count": null,
   "id": "35ea3e4a-e42a-46fc-9420-cc6cb5116301",
   "metadata": {},
   "outputs": [],
   "source": []
  }
 ],
 "metadata": {
  "kernelspec": {
   "display_name": "Python [conda env:base] *",
   "language": "python",
   "name": "conda-base-py"
  },
  "language_info": {
   "codemirror_mode": {
    "name": "ipython",
    "version": 3
   },
   "file_extension": ".py",
   "mimetype": "text/x-python",
   "name": "python",
   "nbconvert_exporter": "python",
   "pygments_lexer": "ipython3",
   "version": "3.13.5"
  }
 },
 "nbformat": 4,
 "nbformat_minor": 5
}
