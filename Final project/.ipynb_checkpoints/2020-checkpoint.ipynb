{
 "cells": [
  {
   "cell_type": "code",
   "execution_count": 1,
   "id": "c7f00453-91bc-4cd5-9908-25f340f0416f",
   "metadata": {},
   "outputs": [],
   "source": [
    "import pandas as pd"
   ]
  },
  {
   "cell_type": "code",
   "execution_count": 2,
   "id": "6c94b1a1-ab78-4214-adbc-0dead729f143",
   "metadata": {},
   "outputs": [],
   "source": [
    "df = pd.read_csv(\"2020.csv\")"
   ]
  },
  {
   "cell_type": "code",
   "execution_count": 3,
   "id": "263859df-bf50-4de8-a98b-42215a66283f",
   "metadata": {},
   "outputs": [
    {
     "name": "stdout",
     "output_type": "stream",
     "text": [
      "(29615, 20)\n"
     ]
    }
   ],
   "source": [
    "print(df.shape)"
   ]
  },
  {
   "cell_type": "code",
   "execution_count": 4,
   "id": "dad2893a-f916-47b4-9bcc-3f0cb1d9d3cd",
   "metadata": {},
   "outputs": [
    {
     "name": "stdout",
     "output_type": "stream",
     "text": [
      "<class 'pandas.core.frame.DataFrame'>\n",
      "RangeIndex: 29615 entries, 0 to 29614\n",
      "Data columns (total 20 columns):\n",
      " #   Column               Non-Null Count  Dtype \n",
      "---  ------               --------------  ----- \n",
      " 0   Current Region       29611 non-null  object\n",
      " 1   CurrentDistrict      29615 non-null  object\n",
      " 2   Previous Region      29615 non-null  object\n",
      " 3   PreviousDistrict     29615 non-null  object\n",
      " 4   Arrival              29615 non-null  object\n",
      " 5   ZoneName             29615 non-null  object\n",
      " 6   OrganisationAcronym  29615 non-null  object\n",
      " 7   0-4M                 29615 non-null  int64 \n",
      " 8   0-4F                 29615 non-null  int64 \n",
      " 9   5-11M                29615 non-null  int64 \n",
      " 10  5-11F                29615 non-null  int64 \n",
      " 11  12-17M               29615 non-null  int64 \n",
      " 12  12-17F               29615 non-null  int64 \n",
      " 13  18_59M               29615 non-null  int64 \n",
      " 14  18_59F               29615 non-null  int64 \n",
      " 15  60+M                 29615 non-null  int64 \n",
      " 16  60+F                 29615 non-null  int64 \n",
      " 17  Individuals          29615 non-null  int64 \n",
      " 18  Category             29615 non-null  object\n",
      " 19  Need                 28725 non-null  object\n",
      "dtypes: int64(11), object(9)\n",
      "memory usage: 4.5+ MB\n",
      "None\n"
     ]
    }
   ],
   "source": [
    "print(df.info())"
   ]
  },
  {
   "cell_type": "code",
   "execution_count": 7,
   "id": "2f50a916-839a-424b-a9eb-9463abac3b4e",
   "metadata": {},
   "outputs": [
    {
     "name": "stdout",
     "output_type": "stream",
     "text": [
      "Current Region           0\n",
      "CurrentDistrict          0\n",
      "Previous Region          0\n",
      "PreviousDistrict         0\n",
      "Arrival                  0\n",
      "ZoneName                 0\n",
      "OrganisationAcronym      0\n",
      "0-4M                     0\n",
      "0-4F                     0\n",
      "5-11M                    0\n",
      "5-11F                    0\n",
      "12-17M                   0\n",
      "12-17F                   0\n",
      "18_59M                   0\n",
      "18_59F                   0\n",
      "60+M                     0\n",
      "60+F                     0\n",
      "Individuals              0\n",
      "Category                 0\n",
      "Need                   890\n",
      "dtype: int64\n"
     ]
    }
   ],
   "source": [
    "print(df.isnull().sum())"
   ]
  },
  {
   "cell_type": "code",
   "execution_count": 6,
   "id": "ba9a3bb1-fded-4fec-a5d9-0bed029485a7",
   "metadata": {},
   "outputs": [
    {
     "name": "stderr",
     "output_type": "stream",
     "text": [
      "C:\\Users\\KCT\\AppData\\Local\\Temp\\ipykernel_15440\\3849650745.py:1: FutureWarning: A value is trying to be set on a copy of a DataFrame or Series through chained assignment using an inplace method.\n",
      "The behavior will change in pandas 3.0. This inplace method will never work because the intermediate object on which we are setting values always behaves as a copy.\n",
      "\n",
      "For example, when doing 'df[col].method(value, inplace=True)', try using 'df.method({col: value}, inplace=True)' or df[col] = df[col].method(value) instead, to perform the operation inplace on the original object.\n",
      "\n",
      "\n",
      "  df[\"Current Region\"].fillna(df[\"Current Region\"].mode()[0], inplace=True)\n"
     ]
    }
   ],
   "source": [
    "df[\"Current Region\"].fillna(df[\"Current Region\"].mode()[0], inplace=True)"
   ]
  },
  {
   "cell_type": "code",
   "execution_count": 8,
   "id": "64ada766-ee24-4948-9634-55e7ad0f4d3c",
   "metadata": {},
   "outputs": [],
   "source": [
    "df_train = df[df[\"Need\"].notnull()].copy()"
   ]
  },
  {
   "cell_type": "code",
   "execution_count": 9,
   "id": "51d1ea35-7fa0-472e-a516-7689f2f69ce2",
   "metadata": {},
   "outputs": [
    {
     "name": "stdout",
     "output_type": "stream",
     "text": [
      "Current Region         0\n",
      "CurrentDistrict        0\n",
      "Previous Region        0\n",
      "PreviousDistrict       0\n",
      "Arrival                0\n",
      "ZoneName               0\n",
      "OrganisationAcronym    0\n",
      "0-4M                   0\n",
      "0-4F                   0\n",
      "5-11M                  0\n",
      "5-11F                  0\n",
      "12-17M                 0\n",
      "12-17F                 0\n",
      "18_59M                 0\n",
      "18_59F                 0\n",
      "60+M                   0\n",
      "60+F                   0\n",
      "Individuals            0\n",
      "Category               0\n",
      "Need                   0\n",
      "dtype: int64\n"
     ]
    }
   ],
   "source": [
    "print(df_train.isnull().sum())"
   ]
  },
  {
   "cell_type": "code",
   "execution_count": 10,
   "id": "298c2e3c-629a-4b87-92ac-ce2992a4078f",
   "metadata": {},
   "outputs": [
    {
     "name": "stdout",
     "output_type": "stream",
     "text": [
      "Current Region\n",
      "SO22    5165\n",
      "SO16    4273\n",
      "SO24    2671\n",
      "SO27    2566\n",
      "SO15    2403\n",
      "SO18    2260\n",
      "SO28    2187\n",
      "SO23    1898\n",
      "SO26    1398\n",
      "SO14    1218\n",
      "SO11    1145\n",
      "SO13     819\n",
      "SO17     514\n",
      "SO12     354\n",
      "SO21     280\n",
      "SO20     203\n",
      "SO25     187\n",
      "SO19      74\n",
      "Name: count, dtype: int64\n"
     ]
    }
   ],
   "source": [
    "print(df[\"Current Region\"].value_counts(dropna=False))"
   ]
  },
  {
   "cell_type": "code",
   "execution_count": 13,
   "id": "2378138b-a48b-408d-b5a0-434a757be58a",
   "metadata": {},
   "outputs": [
    {
     "name": "stdout",
     "output_type": "stream",
     "text": [
      "Arrival\n",
      "6/2/2020      155\n",
      "2/17/2020     153\n",
      "8/9/2020      149\n",
      "11/10/2020    143\n",
      "2/16/2020     143\n",
      "             ... \n",
      "44096           1\n",
      "44180           1\n",
      "44176           1\n",
      "44186           1\n",
      "44194           1\n",
      "Name: count, Length: 446, dtype: int64\n"
     ]
    }
   ],
   "source": [
    "print(df[\"Arrival\"].value_counts(dropna=False))"
   ]
  },
  {
   "cell_type": "code",
   "execution_count": 14,
   "id": "00aecffa-d379-428f-8f7e-f963f83e6b80",
   "metadata": {},
   "outputs": [],
   "source": [
    "df[\"Arrival\"] = pd.to_datetime(df[\"Arrival\"], errors=\"coerce\")\n"
   ]
  },
  {
   "cell_type": "code",
   "execution_count": 16,
   "id": "dbc6c8e4-accc-4ad1-8d3a-ff8349e91b32",
   "metadata": {},
   "outputs": [
    {
     "name": "stdout",
     "output_type": "stream",
     "text": [
      "Arrival\n",
      "2020-01    1846\n",
      "2020-02    2497\n",
      "2020-03    2469\n",
      "2020-04    2424\n",
      "2020-05    2175\n",
      "2020-06    2928\n",
      "2020-07    2761\n",
      "2020-08    2645\n",
      "2020-09    2492\n",
      "2020-10    2532\n",
      "2020-11    2435\n",
      "2020-12    2025\n",
      "Freq: M, Name: count, dtype: int64\n"
     ]
    }
   ],
   "source": [
    "print(df[\"Arrival\"].dt.to_period(\"M\").value_counts().sort_index())\n"
   ]
  },
  {
   "cell_type": "code",
   "execution_count": 26,
   "id": "cec3d0b6-9e4d-42d0-b06a-884005aabe05",
   "metadata": {},
   "outputs": [],
   "source": [
    "df_train = df_train.rename(columns={\n",
    "    \"0-4M\": \"Age0_4_Male\",\n",
    "    \"0-4F\": \"Age0_4_Female\",\n",
    "    \"5-11M\": \"Age5_11_Male\",\n",
    "    \"5-11F\": \"Age5_11_Female\",\n",
    "    \"12-17M\": \"Age12_17_Male\",\n",
    "    \"12-17F\": \"Age12_17_Female\",\n",
    "    \"18_59M\": \"Age18_59_Male\",\n",
    "    \"18_59F\": \"Age18_59_Female\",\n",
    "    \"60+M\": \"Age60plus_Male\",\n",
    "    \"60+F\": \"Age60plus_Female\"\n",
    "})\n"
   ]
  },
  {
   "cell_type": "code",
   "execution_count": 20,
   "id": "3c06e3d5-f1ad-4144-8a5d-28b7f5122e84",
   "metadata": {},
   "outputs": [
    {
     "name": "stdout",
     "output_type": "stream",
     "text": [
      "<class 'pandas.core.frame.DataFrame'>\n",
      "RangeIndex: 29615 entries, 0 to 29614\n",
      "Data columns (total 20 columns):\n",
      " #   Column               Non-Null Count  Dtype         \n",
      "---  ------               --------------  -----         \n",
      " 0   Current Region       29615 non-null  object        \n",
      " 1   CurrentDistrict      29615 non-null  object        \n",
      " 2   Previous Region      29615 non-null  object        \n",
      " 3   PreviousDistrict     29615 non-null  object        \n",
      " 4   Arrival              29229 non-null  datetime64[ns]\n",
      " 5   ZoneName             29615 non-null  object        \n",
      " 6   OrganisationAcronym  29615 non-null  object        \n",
      " 7   Age0_4_Male          29615 non-null  int64         \n",
      " 8   Age0_4_Female        29615 non-null  int64         \n",
      " 9   Age5_11_Male         29615 non-null  int64         \n",
      " 10  Age5_11_Female       29615 non-null  int64         \n",
      " 11  Age12_17_Male        29615 non-null  int64         \n",
      " 12  Age12_17_Female      29615 non-null  int64         \n",
      " 13  Age18_59_Male        29615 non-null  int64         \n",
      " 14  Age18_59_Female      29615 non-null  int64         \n",
      " 15  Age60plus_Male       29615 non-null  int64         \n",
      " 16  Age60plus_Female     29615 non-null  int64         \n",
      " 17  Individuals          29615 non-null  int64         \n",
      " 18  Category             29615 non-null  object        \n",
      " 19  Need                 28725 non-null  object        \n",
      "dtypes: datetime64[ns](1), int64(11), object(8)\n",
      "memory usage: 4.5+ MB\n",
      "None\n"
     ]
    }
   ],
   "source": [
    "print(df.info())"
   ]
  },
  {
   "cell_type": "code",
   "execution_count": 27,
   "id": "ed7f0d82-5970-4ccb-b509-64f0863e888b",
   "metadata": {},
   "outputs": [
    {
     "name": "stdout",
     "output_type": "stream",
     "text": [
      "<class 'pandas.core.frame.DataFrame'>\n",
      "Index: 28725 entries, 5 to 29614\n",
      "Data columns (total 20 columns):\n",
      " #   Column               Non-Null Count  Dtype \n",
      "---  ------               --------------  ----- \n",
      " 0   Current Region       28725 non-null  object\n",
      " 1   CurrentDistrict      28725 non-null  object\n",
      " 2   Previous Region      28725 non-null  object\n",
      " 3   PreviousDistrict     28725 non-null  object\n",
      " 4   Arrival              28725 non-null  object\n",
      " 5   ZoneName             28725 non-null  object\n",
      " 6   OrganisationAcronym  28725 non-null  object\n",
      " 7   Age0_4_Male          28725 non-null  int64 \n",
      " 8   Age0_4_Female        28725 non-null  int64 \n",
      " 9   Age5_11_Male         28725 non-null  int64 \n",
      " 10  Age5_11_Female       28725 non-null  int64 \n",
      " 11  Age12_17_Male        28725 non-null  int64 \n",
      " 12  Age12_17_Female      28725 non-null  int64 \n",
      " 13  Age18_59_Male        28725 non-null  int64 \n",
      " 14  Age18_59_Female      28725 non-null  int64 \n",
      " 15  Age60plus_Male       28725 non-null  int64 \n",
      " 16  Age60plus_Female     28725 non-null  int64 \n",
      " 17  Individuals          28725 non-null  int64 \n",
      " 18  Category             28725 non-null  object\n",
      " 19  Need                 28725 non-null  object\n",
      "dtypes: int64(11), object(9)\n",
      "memory usage: 4.6+ MB\n",
      "None\n"
     ]
    }
   ],
   "source": [
    "print(df_train.info())"
   ]
  },
  {
   "cell_type": "code",
   "execution_count": 28,
   "id": "75eee17c-8f82-45a2-87df-ce2addfebd69",
   "metadata": {},
   "outputs": [],
   "source": [
    "before = df_train.shape"
   ]
  },
  {
   "cell_type": "code",
   "execution_count": 34,
   "id": "1346956d-8342-4db1-967f-f9ab0f1d2a40",
   "metadata": {},
   "outputs": [
    {
     "name": "stdout",
     "output_type": "stream",
     "text": [
      "(28725, 20)\n"
     ]
    }
   ],
   "source": [
    "print(before)"
   ]
  },
  {
   "cell_type": "code",
   "execution_count": 32,
   "id": "598db490-5cfa-4306-81cc-5226ff1a0a67",
   "metadata": {},
   "outputs": [],
   "source": [
    "df_train = df_train.drop_duplicates()"
   ]
  },
  {
   "cell_type": "code",
   "execution_count": 33,
   "id": "450a2da2-9a9c-4f87-aaba-849adc0f96f6",
   "metadata": {},
   "outputs": [
    {
     "name": "stdout",
     "output_type": "stream",
     "text": [
      "(27021, 20)\n"
     ]
    }
   ],
   "source": [
    "print(df_train.shape)"
   ]
  },
  {
   "cell_type": "code",
   "execution_count": null,
   "id": "237f213c-4e25-47cf-aa45-eae1ee9518f8",
   "metadata": {},
   "outputs": [],
   "source": []
  }
 ],
 "metadata": {
  "kernelspec": {
   "display_name": "Python [conda env:base] *",
   "language": "python",
   "name": "conda-base-py"
  },
  "language_info": {
   "codemirror_mode": {
    "name": "ipython",
    "version": 3
   },
   "file_extension": ".py",
   "mimetype": "text/x-python",
   "name": "python",
   "nbconvert_exporter": "python",
   "pygments_lexer": "ipython3",
   "version": "3.13.5"
  }
 },
 "nbformat": 4,
 "nbformat_minor": 5
}
