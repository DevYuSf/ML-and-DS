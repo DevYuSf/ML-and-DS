{
 "cells": [
  {
   "cell_type": "code",
   "execution_count": 78,
   "id": "af7ce651-f8ac-4fe2-935e-3fd6014b2874",
   "metadata": {},
   "outputs": [],
   "source": [
    "import pandas as pd\n",
    "import glob\n",
    "from sklearn.model_selection import train_test_split\n",
    "from sklearn.linear_model import LogisticRegression\n",
    "from sklearn.ensemble import RandomForestClassifier\n",
    "from sklearn.metrics import accuracy_score, precision_score, recall_score, f1_score, confusion_matrix\n"
   ]
  },
  {
   "cell_type": "code",
   "execution_count": 79,
   "id": "34897174-b61a-4975-96d1-d743d95ea495",
   "metadata": {},
   "outputs": [
    {
     "name": "stdout",
     "output_type": "stream",
     "text": [
      "Shape after merge: (77646, 20)\n"
     ]
    }
   ],
   "source": [
    "folder_path = \"*.csv\"\n",
    "# Read and merge all CSV files\n",
    "files = glob.glob(folder_path)\n",
    "df = pd.concat([pd.read_csv(f) for f in files], ignore_index=True)\n",
    "\n",
    "print(\"Shape after merge:\", df.shape)"
   ]
  },
  {
   "cell_type": "code",
   "execution_count": 80,
   "id": "9f859249-9fe1-4f25-a776-1a254786d416",
   "metadata": {},
   "outputs": [
    {
     "name": "stdout",
     "output_type": "stream",
     "text": [
      "<class 'pandas.core.frame.DataFrame'>\n",
      "RangeIndex: 77646 entries, 0 to 77645\n",
      "Data columns (total 20 columns):\n",
      " #   Column               Non-Null Count  Dtype \n",
      "---  ------               --------------  ----- \n",
      " 0   Current Region       77631 non-null  object\n",
      " 1   CurrentDistrict      77646 non-null  object\n",
      " 2   Previous Region      77644 non-null  object\n",
      " 3   PreviousDistrict     77644 non-null  object\n",
      " 4   Arrival              77646 non-null  object\n",
      " 5   ZoneName             77646 non-null  object\n",
      " 6   OrganisationAcronym  77646 non-null  object\n",
      " 7   0-4M                 77646 non-null  int64 \n",
      " 8   0-4F                 77646 non-null  int64 \n",
      " 9   5-11M                77646 non-null  int64 \n",
      " 10  5-11F                77646 non-null  int64 \n",
      " 11  12-17M               77646 non-null  int64 \n",
      " 12  12-17F               77646 non-null  int64 \n",
      " 13  18_59M               77646 non-null  int64 \n",
      " 14  18_59F               77646 non-null  int64 \n",
      " 15  60+M                 77646 non-null  int64 \n",
      " 16  60+F                 77646 non-null  int64 \n",
      " 17  Individuals          77646 non-null  int64 \n",
      " 18  Category             77646 non-null  object\n",
      " 19  Need                 75099 non-null  object\n",
      "dtypes: int64(11), object(9)\n",
      "memory usage: 11.8+ MB\n",
      "None\n"
     ]
    }
   ],
   "source": [
    "print(df.info())"
   ]
  },
  {
   "cell_type": "code",
   "execution_count": null,
   "id": "98642506-d0f4-4414-b0f6-cb9d4a968e8b",
   "metadata": {},
   "outputs": [],
   "source": [
    "# Convert Arrival to datetime and extract useful features\n",
    "df[\"Arrival\"] = pd.to_datetime(df[\"Arrival\"], errors=\"coerce\")\n",
    "df[\"Arrival_Year\"] = df[\"Arrival\"].dt.year\n",
    "df[\"Arrival_Month\"] = df[\"Arrival\"].dt.month\n"
   ]
  },
  {
   "cell_type": "code",
   "execution_count": null,
   "id": "baed0547-45a3-42c4-b88a-fd17dad5cdc3",
   "metadata": {},
   "outputs": [],
   "source": [
    "# df = df.drop(columns=[\"OrganisationAcronym\", \"Category\"])\n",
    "df = df.drop(columns=[\"Arrival\"])\n",
    "\n"
   ]
  },
  {
   "cell_type": "code",
   "execution_count": null,
   "id": "136f09b5-8ea9-4da7-bbec-6cf81552fd91",
   "metadata": {},
   "outputs": [],
   "source": [
    "df = df.rename(columns={\n",
    "    \"0-4M\": \"Age0_4_Male\",\n",
    "    \"0-4F\": \"Age0_4_Female\",\n",
    "    \"5-11M\": \"Age5_11_Male\",\n",
    "    \"5-11F\": \"Age5_11_Female\",\n",
    "    \"12-17M\": \"Age12_17_Male\",\n",
    "    \"12-17F\": \"Age12_17_Female\",\n",
    "    \"18_59M\": \"Age18_59_Male\",\n",
    "    \"18_59F\": \"Age18_59_Female\",\n",
    "    \"60+M\": \"Age60plus_Male\",\n",
    "    \"60+F\": \"Age60plus_Female\"\n",
    "})\n"
   ]
  },
  {
   "cell_type": "code",
   "execution_count": null,
   "id": "fe16e61b-4fbe-4ed3-b490-25bd10a5e44d",
   "metadata": {},
   "outputs": [],
   "source": [
    "print(df.info())"
   ]
  },
  {
   "cell_type": "code",
   "execution_count": null,
   "id": "76aed01d-c3b5-4711-97f7-f048ce50e076",
   "metadata": {},
   "outputs": [],
   "source": [
    "df[\"Current Region\"] = df[\"Current Region\"].fillna(df[\"Current Region\"].mode()[0])\n",
    "df[\"Previous Region\"] = df[\"Previous Region\"].fillna(df[\"Previous Region\"].mode()[0])\n",
    "df[\"PreviousDistrict\"] = df[\"PreviousDistrict\"].fillna(df[\"Previous Region\"].mode()[0])\n",
    "df[\"Arrival_Year\"] = df[\"Arrival_Year\"].fillna(df[\"Arrival_Year\"].mode()[0])\n",
    "df[\"Arrival_Month\"] = df[\"Arrival_Month\"].fillna(df[\"Arrival_Month\"].mode()[0])"
   ]
  },
  {
   "cell_type": "code",
   "execution_count": null,
   "id": "851b9b9c-1d33-4b01-b717-1aa92c83d57d",
   "metadata": {},
   "outputs": [],
   "source": [
    "df = df.drop_duplicates()"
   ]
  },
  {
   "cell_type": "code",
   "execution_count": null,
   "id": "1d2d60a9-d801-41d5-9340-2a9a22ebe649",
   "metadata": {},
   "outputs": [],
   "source": [
    "print(df[\"Individuals\"].head())"
   ]
  },
  {
   "cell_type": "code",
   "execution_count": null,
   "id": "680b7755-eb26-43b9-be76-01f590f97916",
   "metadata": {},
   "outputs": [],
   "source": [
    "# Training data (Need is known)\n",
    "train_df = df[df[\"Need\"].notnull()].copy()\n",
    "# Prediction data (Need is missing, to predict later)\n",
    "predict_df = df[df[\"Need\"].isnull()].copy()\n"
   ]
  },
  {
   "cell_type": "code",
   "execution_count": null,
   "id": "8a136e73-f830-414f-9c3d-4d4b9eb7c8a2",
   "metadata": {},
   "outputs": [],
   "source": [
    "print(train_df.info())"
   ]
  },
  {
   "cell_type": "code",
   "execution_count": null,
   "id": "95239f1b-dba1-4caf-977f-bbb8ca9434f3",
   "metadata": {},
   "outputs": [],
   "source": [
    "print(train_df.shape)\n",
    "print(predict_df.shape)"
   ]
  },
  {
   "cell_type": "code",
   "execution_count": null,
   "id": "cce48905-c904-439d-840b-6ce5294874b4",
   "metadata": {},
   "outputs": [],
   "source": [
    "# Features and labels\n",
    "X = train_df.drop(columns=[\"Need\"])   \n",
    "y = train_df[\"Need\"]                 \n"
   ]
  },
  {
   "cell_type": "raw",
   "id": "d26f4e07-f7ee-400f-a720-6ccba87b91b5",
   "metadata": {},
   "source": []
  },
  {
   "cell_type": "code",
   "execution_count": null,
   "id": "a137c4fe-5cca-4d86-a047-806b61bc6c08",
   "metadata": {},
   "outputs": [],
   "source": [
    "# One-hot encode categorical variables\n",
    "X_encoded = pd.get_dummies(\n",
    "    X,\n",
    "    columns=[\"Current Region\", \"CurrentDistrict\", \"Previous Region\", \"PreviousDistrict\", \"ZoneName\"],\n",
    "    drop_first=True  \n",
    ").astype(int)\n"
   ]
  },
  {
   "cell_type": "code",
   "execution_count": null,
   "id": "5cf65477-3b98-4df4-971c-34da04f48ba9",
   "metadata": {},
   "outputs": [],
   "source": [
    "predict_encoded = pd.get_dummies(\n",
    "    predict_df.drop(columns=[\"Need\"]),\n",
    "    columns=[\"Current Region\", \"CurrentDistrict\", \"Previous Region\", \"PreviousDistrict\", \"ZoneName\"],\n",
    "    drop_first=True\n",
    ").astype(int)\n",
    "# Align columns (this will make sure training and prediction sets have same structure)\n",
    "predict_encoded = predict_encoded.reindex(columns=X_encoded.columns, fill_value=0)\n"
   ]
  },
  {
   "cell_type": "code",
   "execution_count": null,
   "id": "e50ca28d-93ef-4e09-be43-68e31da572d7",
   "metadata": {},
   "outputs": [],
   "source": [
    "\n",
    "X_train, X_val, y_train, y_val = train_test_split(\n",
    "    X_encoded, y, test_size=0.2, random_state=42, stratify=y\n",
    ")\n"
   ]
  },
  {
   "cell_type": "code",
   "execution_count": null,
   "id": "b3f5eed4-35e7-4947-a330-527b3f0490d2",
   "metadata": {},
   "outputs": [],
   "source": [
    "# Logistic Regression\n",
    "lr = LogisticRegression(max_iter=5000, random_state=42,class_weight=\"balanced\")\n",
    "lr.fit(X_train, y_train)\n",
    "\n",
    "# Random Forest\n",
    "rf = RandomForestClassifier(n_estimators=100, random_state=42,class_weight=\"balanced\")\n",
    "rf.fit(X_train, y_train)\n",
    "# LogisticRegression(class_weight=\"balanced\")\n",
    "# RandomForestClassifier(class_weight=\"balanced\")\n"
   ]
  },
  {
   "cell_type": "code",
   "execution_count": null,
   "id": "3e4eeb0e-18f2-43f8-8f3f-7b411d7fb645",
   "metadata": {},
   "outputs": [],
   "source": [
    "def evaluate(model, X_val, y_val, name):\n",
    "    y_pred = model.predict(X_val)\n",
    "    print(f\"\\n{name} Results:\")\n",
    "    print(f\"Accuracy: {accuracy_score(y_val, y_pred):.3f}\")\n",
    "    print(f\"Precision: {precision_score(y_val, y_pred, average='weighted'):.3f}\")\n",
    "    print(f\"Recall: {recall_score(y_val, y_pred, average='weighted'):.3f}\")\n",
    "    print(f\"F1 Score: {f1_score(y_val, y_pred, average='weighted'):.3f}\")\n",
    "    # print(\"Confusion Matrix:\")\n",
    "    # print(confusion_matrix(y_val, y_pred))"
   ]
  },
  {
   "cell_type": "code",
   "execution_count": null,
   "id": "ed151d81-45e6-4495-9161-a40faae77af7",
   "metadata": {},
   "outputs": [],
   "source": [
    "evaluate(lr, X_val, y_val, \"Logistic Regression\")\n",
    "evaluate(rf, X_val, y_val, \"Random Forest\")"
   ]
  },
  {
   "cell_type": "code",
   "execution_count": null,
   "id": "c97458a4-3292-4ad7-9abe-4c5d6147a366",
   "metadata": {},
   "outputs": [],
   "source": [
    "print(train_df[\"Need\"].value_counts(dropna=False))\n"
   ]
  },
  {
   "cell_type": "code",
   "execution_count": null,
   "id": "3056d449-2255-434f-ba71-bd8360e7e083",
   "metadata": {},
   "outputs": [],
   "source": [
    "print(train_df.head())"
   ]
  },
  {
   "cell_type": "code",
   "execution_count": null,
   "id": "7ecb7817-715b-4e3c-9246-853fc79943d1",
   "metadata": {},
   "outputs": [],
   "source": [
    "print(train_df.info())"
   ]
  },
  {
   "cell_type": "code",
   "execution_count": null,
   "id": "4ffdc29f-a8fa-4873-a555-e049f87487c7",
   "metadata": {},
   "outputs": [],
   "source": [
    "print(X.info())"
   ]
  },
  {
   "cell_type": "code",
   "execution_count": null,
   "id": "456784b7-1a27-49d6-bb79-305bd31a0c66",
   "metadata": {},
   "outputs": [],
   "source": [
    "print(X_encoded.info())"
   ]
  },
  {
   "cell_type": "code",
   "execution_count": null,
   "id": "12e43212-b41c-49ad-93b2-cec580be583f",
   "metadata": {},
   "outputs": [
    {
     "name": "stdout",
     "output_type": "stream",
     "text": [
      "Fitting 5 folds for each of 30 candidates, totalling 150 fits\n"
     ]
    }
   ],
   "source": [
    "from sklearn.model_selection import RandomizedSearchCV, StratifiedKFold\n",
    "import numpy as np\n",
    "\n",
    "# Define parameter grid for Random Forest\n",
    "param_dist = {\n",
    "    'n_estimators': [100, 200, 300, 500],\n",
    "    'max_depth': [None, 10, 20, 30, 50],\n",
    "    'min_samples_split': [2, 5, 10],\n",
    "    'min_samples_leaf': [1, 2, 4],\n",
    "    'max_features': ['sqrt', 'log2', None],\n",
    "    'bootstrap': [True, False]\n",
    "}\n",
    "\n",
    "# StratifiedKFold is good for classification, especially with imbalanced data\n",
    "cv_strategy = StratifiedKFold(n_splits=5, shuffle=True, random_state=42)\n",
    "\n",
    "# Create the randomized search object\n",
    "rf_random_search = RandomizedSearchCV(\n",
    "    estimator=rf,\n",
    "    param_distributions=param_dist,\n",
    "    n_iter=30,  # Number of random combinations to try\n",
    "    cv=cv_strategy,\n",
    "    verbose=2,\n",
    "    n_jobs=-1,\n",
    "    scoring='f1_macro',  # Good metric for imbalanced multiclass\n",
    "    random_state=42\n",
    ")\n",
    "\n",
    "# Fit the search to the data\n",
    "rf_random_search.fit(X_train, y_train)\n",
    "\n",
    "print(\"Best Parameters:\", rf_random_search.best_params_)\n",
    "print(\"Best CV Score (f1_macro):\", rf_random_search.best_score_)\n"
   ]
  },
  {
   "cell_type": "code",
   "execution_count": null,
   "id": "e2291050-0d0a-44fe-a238-61db8d500f25",
   "metadata": {},
   "outputs": [],
   "source": [
    "from sklearn.metrics import classification_report, accuracy_score\n",
    "\n",
    "# Retrieve the best model\n",
    "best_rf = rf_random_search.best_estimator_\n",
    "\n",
    "# Evaluate on test set\n",
    "y_pred = best_rf.predict(X_test)\n",
    "print(\"Accuracy:\", accuracy_score(y_test, y_pred))\n",
    "print(\"Classification Report:\")\n",
    "print(classification_report(y_test, y_pred))\n"
   ]
  },
  {
   "cell_type": "code",
   "execution_count": null,
   "id": "e2eb975b-b235-4f62-b645-fe79b54ef418",
   "metadata": {},
   "outputs": [],
   "source": []
  }
 ],
 "metadata": {
  "kernelspec": {
   "display_name": "Python [conda env:base] *",
   "language": "python",
   "name": "conda-base-py"
  },
  "language_info": {
   "codemirror_mode": {
    "name": "ipython",
    "version": 3
   },
   "file_extension": ".py",
   "mimetype": "text/x-python",
   "name": "python",
   "nbconvert_exporter": "python",
   "pygments_lexer": "ipython3",
   "version": "3.13.5"
  }
 },
 "nbformat": 4,
 "nbformat_minor": 5
}
