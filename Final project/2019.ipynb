{
 "cells": [
  {
   "cell_type": "code",
   "execution_count": 39,
   "id": "1f5696f4-9a2f-4132-8506-2df5511158bc",
   "metadata": {},
   "outputs": [],
   "source": [
    "import pandas as pd"
   ]
  },
  {
   "cell_type": "code",
   "execution_count": 40,
   "id": "9f40f918-edad-4ac7-ae44-737778fae8d7",
   "metadata": {},
   "outputs": [],
   "source": [
    "df = pd.read_csv(\"Displacement Data.csv\")"
   ]
  },
  {
   "cell_type": "code",
   "execution_count": 27,
   "id": "c4187064-595a-4843-96ed-686b6783bdc0",
   "metadata": {},
   "outputs": [
    {
     "name": "stdout",
     "output_type": "stream",
     "text": [
      "(29663, 20)\n"
     ]
    }
   ],
   "source": [
    "print(df.shape)"
   ]
  },
  {
   "cell_type": "code",
   "execution_count": 28,
   "id": "56661eaa-2f52-44da-b747-f5ed16fb0264",
   "metadata": {},
   "outputs": [
    {
     "name": "stdout",
     "output_type": "stream",
     "text": [
      "<class 'pandas.core.frame.DataFrame'>\n",
      "RangeIndex: 29663 entries, 0 to 29662\n",
      "Data columns (total 20 columns):\n",
      " #   Column               Non-Null Count  Dtype \n",
      "---  ------               --------------  ----- \n",
      " 0   Current Region       29656 non-null  object\n",
      " 1   CurrentDistrict      29663 non-null  object\n",
      " 2   Previous Region      29661 non-null  object\n",
      " 3   PreviousDistrict     29661 non-null  object\n",
      " 4   Arrival              29663 non-null  object\n",
      " 5   ZoneName             29663 non-null  object\n",
      " 6   OrganisationAcronym  29663 non-null  object\n",
      " 7   0-4M                 29663 non-null  int64 \n",
      " 8   0-4F                 29663 non-null  int64 \n",
      " 9   5-11M                29663 non-null  int64 \n",
      " 10  5-11F                29663 non-null  int64 \n",
      " 11  12-17M               29663 non-null  int64 \n",
      " 12  12-17F               29663 non-null  int64 \n",
      " 13  18_59M               29663 non-null  int64 \n",
      " 14  18_59F               29663 non-null  int64 \n",
      " 15  60+M                 29663 non-null  int64 \n",
      " 16  60+F                 29663 non-null  int64 \n",
      " 17  Individuals          29663 non-null  int64 \n",
      " 18  Category             29663 non-null  object\n",
      " 19  Need                 28518 non-null  object\n",
      "dtypes: int64(11), object(9)\n",
      "memory usage: 4.5+ MB\n",
      "None\n"
     ]
    }
   ],
   "source": [
    "print(df.info())"
   ]
  },
  {
   "cell_type": "code",
   "execution_count": 29,
   "id": "6461484a-bd8b-479c-96f3-5f3aff527683",
   "metadata": {},
   "outputs": [
    {
     "name": "stdout",
     "output_type": "stream",
     "text": [
      "Current Region            7\n",
      "CurrentDistrict           0\n",
      "Previous Region           2\n",
      "PreviousDistrict          2\n",
      "Arrival                   0\n",
      "ZoneName                  0\n",
      "OrganisationAcronym       0\n",
      "0-4M                      0\n",
      "0-4F                      0\n",
      "5-11M                     0\n",
      "5-11F                     0\n",
      "12-17M                    0\n",
      "12-17F                    0\n",
      "18_59M                    0\n",
      "18_59F                    0\n",
      "60+M                      0\n",
      "60+F                      0\n",
      "Individuals               0\n",
      "Category                  0\n",
      "Need                   1145\n",
      "dtype: int64\n"
     ]
    }
   ],
   "source": [
    "print(df.isnull().sum())"
   ]
  },
  {
   "cell_type": "code",
   "execution_count": null,
   "id": "c8b3a6b5-34ec-4921-be4e-45aaa73b314a",
   "metadata": {},
   "outputs": [],
   "source": [
    "df[\"Current Region\"].fillna(df[\"Current Region\"].mode()[0], inplace=True)"
   ]
  },
  {
   "cell_type": "code",
   "execution_count": 47,
   "id": "623184a2-92f0-4aa1-a940-d6b80394bec3",
   "metadata": {},
   "outputs": [
    {
     "name": "stderr",
     "output_type": "stream",
     "text": [
      "C:\\Users\\KCT\\AppData\\Local\\Temp\\ipykernel_12160\\1233676560.py:1: FutureWarning: A value is trying to be set on a copy of a DataFrame or Series through chained assignment using an inplace method.\n",
      "The behavior will change in pandas 3.0. This inplace method will never work because the intermediate object on which we are setting values always behaves as a copy.\n",
      "\n",
      "For example, when doing 'df[col].method(value, inplace=True)', try using 'df.method({col: value}, inplace=True)' or df[col] = df[col].method(value) instead, to perform the operation inplace on the original object.\n",
      "\n",
      "\n",
      "  df[\"PreviousDistrict\"].fillna(df[\"PreviousDistrict\"].mode()[0], inplace=True)\n"
     ]
    }
   ],
   "source": [
    "df[\"PreviousDistrict\"].fillna(df[\"PreviousDistrict\"].mode()[0], inplace=True)"
   ]
  },
  {
   "cell_type": "code",
   "execution_count": 48,
   "id": "0e31923f-6c49-4f39-ad32-5a7911e17292",
   "metadata": {},
   "outputs": [
    {
     "name": "stderr",
     "output_type": "stream",
     "text": [
      "C:\\Users\\KCT\\AppData\\Local\\Temp\\ipykernel_12160\\3322704130.py:1: FutureWarning: A value is trying to be set on a copy of a DataFrame or Series through chained assignment using an inplace method.\n",
      "The behavior will change in pandas 3.0. This inplace method will never work because the intermediate object on which we are setting values always behaves as a copy.\n",
      "\n",
      "For example, when doing 'df[col].method(value, inplace=True)', try using 'df.method({col: value}, inplace=True)' or df[col] = df[col].method(value) instead, to perform the operation inplace on the original object.\n",
      "\n",
      "\n",
      "  df[\"Previous Region\"].fillna(df[\"Previous Region\"].mode()[0], inplace=True)\n"
     ]
    }
   ],
   "source": [
    "df[\"Previous Region\"].fillna(df[\"Previous Region\"].mode()[0], inplace=True)\n"
   ]
  },
  {
   "cell_type": "code",
   "execution_count": 49,
   "id": "98551b3c-aecb-41ac-9c59-cbca8bc01fe6",
   "metadata": {},
   "outputs": [],
   "source": [
    "df_train = df[df['Need'].notnull()].copy()"
   ]
  },
  {
   "cell_type": "code",
   "execution_count": 50,
   "id": "41d20ed5-98b2-4a8a-9f73-7e4826316cc2",
   "metadata": {},
   "outputs": [
    {
     "name": "stdout",
     "output_type": "stream",
     "text": [
      "Current Region         0\n",
      "CurrentDistrict        0\n",
      "Previous Region        0\n",
      "PreviousDistrict       0\n",
      "Arrival                0\n",
      "ZoneName               0\n",
      "OrganisationAcronym    0\n",
      "0-4M                   0\n",
      "0-4F                   0\n",
      "5-11M                  0\n",
      "5-11F                  0\n",
      "12-17M                 0\n",
      "12-17F                 0\n",
      "18_59M                 0\n",
      "18_59F                 0\n",
      "60+M                   0\n",
      "60+F                   0\n",
      "Individuals            0\n",
      "Category               0\n",
      "Need                   0\n",
      "dtype: int64\n"
     ]
    }
   ],
   "source": [
    "print(df_train.isnull().sum())"
   ]
  },
  {
   "cell_type": "code",
   "execution_count": 51,
   "id": "8bea54ea-7d3c-4dca-b2b8-396cb5a18338",
   "metadata": {},
   "outputs": [
    {
     "name": "stdout",
     "output_type": "stream",
     "text": [
      "Current Region            0\n",
      "CurrentDistrict           0\n",
      "Previous Region           0\n",
      "PreviousDistrict          0\n",
      "Arrival                   0\n",
      "ZoneName                  0\n",
      "OrganisationAcronym       0\n",
      "0-4M                      0\n",
      "0-4F                      0\n",
      "5-11M                     0\n",
      "5-11F                     0\n",
      "12-17M                    0\n",
      "12-17F                    0\n",
      "18_59M                    0\n",
      "18_59F                    0\n",
      "60+M                      0\n",
      "60+F                      0\n",
      "Individuals               0\n",
      "Category                  0\n",
      "Need                   1145\n",
      "dtype: int64\n"
     ]
    }
   ],
   "source": [
    "print(df.isnull().sum())"
   ]
  },
  {
   "cell_type": "code",
   "execution_count": 8,
   "id": "063ad0d4-dd35-447d-8a0e-df8756d6beeb",
   "metadata": {},
   "outputs": [
    {
     "name": "stdout",
     "output_type": "stream",
     "text": [
      "0        SO18\n",
      "1        SO14\n",
      "2        SO18\n",
      "3        SO18\n",
      "4        SO18\n",
      "         ... \n",
      "29658    SO22\n",
      "29659    SO22\n",
      "29660    SO22\n",
      "29661    SO23\n",
      "29662    SO23\n",
      "Name: Current Region, Length: 28518, dtype: object\n"
     ]
    }
   ],
   "source": [
    "print(df_train[\"Current Region\"])"
   ]
  },
  {
   "cell_type": "code",
   "execution_count": 52,
   "id": "1ac16477-e163-4cad-83c2-fd39eaa9b56e",
   "metadata": {},
   "outputs": [
    {
     "name": "stdout",
     "output_type": "stream",
     "text": [
      "Current Region\n",
      "SO16    3960\n",
      "SO22    3856\n",
      "SO18    3097\n",
      "SO28    3073\n",
      "SO24    2796\n",
      "SO15    2582\n",
      "SO27    1766\n",
      "SO11    1115\n",
      "SO26    1077\n",
      "SO23    1016\n",
      "SO14     874\n",
      "SO13     865\n",
      "SO17     620\n",
      "SO21     466\n",
      "SO12     446\n",
      "SO25     385\n",
      "SO20     348\n",
      "SO19     176\n",
      "Name: count, dtype: int64\n"
     ]
    }
   ],
   "source": [
    "print(df_train[\"Current Region\"].value_counts(dropna=False))"
   ]
  },
  {
   "cell_type": "code",
   "execution_count": 32,
   "id": "cad16d95-fa2e-40e5-903a-22cb998db5ca",
   "metadata": {},
   "outputs": [
    {
     "name": "stdout",
     "output_type": "stream",
     "text": [
      "Current Region\n",
      "SO22    4252\n",
      "SO16    4008\n",
      "SO28    3216\n",
      "SO18    3138\n",
      "SO24    2905\n",
      "SO15    2601\n",
      "SO27    1828\n",
      "SO11    1120\n",
      "SO26    1091\n",
      "SO23    1070\n",
      "SO14     887\n",
      "SO13     884\n",
      "SO17     621\n",
      "SO21     485\n",
      "SO12     449\n",
      "SO25     434\n",
      "SO20     404\n",
      "SO19     263\n",
      "NaN        7\n",
      "Name: count, dtype: int64\n"
     ]
    }
   ],
   "source": [
    "print(df[\"Current Region\"].value_counts(dropna=False))"
   ]
  },
  {
   "cell_type": "code",
   "execution_count": 38,
   "id": "47f533bd-3db3-4cae-9e1f-a4e0a4ba8080",
   "metadata": {},
   "outputs": [
    {
     "ename": "KeyError",
     "evalue": "0",
     "output_type": "error",
     "traceback": [
      "\u001b[1;31m---------------------------------------------------------------------------\u001b[0m",
      "\u001b[1;31mValueError\u001b[0m                                Traceback (most recent call last)",
      "File \u001b[1;32m~\\anaconda3\\Lib\\site-packages\\pandas\\core\\indexes\\range.py:413\u001b[0m, in \u001b[0;36mRangeIndex.get_loc\u001b[1;34m(self, key)\u001b[0m\n\u001b[0;32m    412\u001b[0m \u001b[38;5;28;01mtry\u001b[39;00m:\n\u001b[1;32m--> 413\u001b[0m     \u001b[38;5;28;01mreturn\u001b[39;00m \u001b[38;5;28mself\u001b[39m\u001b[38;5;241m.\u001b[39m_range\u001b[38;5;241m.\u001b[39mindex(new_key)\n\u001b[0;32m    414\u001b[0m \u001b[38;5;28;01mexcept\u001b[39;00m \u001b[38;5;167;01mValueError\u001b[39;00m \u001b[38;5;28;01mas\u001b[39;00m err:\n",
      "\u001b[1;31mValueError\u001b[0m: 0 is not in range",
      "\nThe above exception was the direct cause of the following exception:\n",
      "\u001b[1;31mKeyError\u001b[0m                                  Traceback (most recent call last)",
      "Cell \u001b[1;32mIn[38], line 1\u001b[0m\n\u001b[1;32m----> 1\u001b[0m df_train[\u001b[38;5;124m\"\u001b[39m\u001b[38;5;124mCurrent Region\u001b[39m\u001b[38;5;124m\"\u001b[39m]\u001b[38;5;241m=\u001b[39mdf_train[\u001b[38;5;124m\"\u001b[39m\u001b[38;5;124mCurrent Region\u001b[39m\u001b[38;5;124m\"\u001b[39m]\u001b[38;5;241m.\u001b[39mreplace({\u001b[38;5;124m\"\u001b[39m\u001b[38;5;124m\"\u001b[39m:df_train[\u001b[38;5;124m\"\u001b[39m\u001b[38;5;124mCurrent Region\u001b[39m\u001b[38;5;124m\"\u001b[39m]\u001b[38;5;241m.\u001b[39mmode()[\u001b[38;5;241m0\u001b[39m]})\n",
      "File \u001b[1;32m~\\anaconda3\\Lib\\site-packages\\pandas\\core\\series.py:1121\u001b[0m, in \u001b[0;36mSeries.__getitem__\u001b[1;34m(self, key)\u001b[0m\n\u001b[0;32m   1118\u001b[0m     \u001b[38;5;28;01mreturn\u001b[39;00m \u001b[38;5;28mself\u001b[39m\u001b[38;5;241m.\u001b[39m_values[key]\n\u001b[0;32m   1120\u001b[0m \u001b[38;5;28;01melif\u001b[39;00m key_is_scalar:\n\u001b[1;32m-> 1121\u001b[0m     \u001b[38;5;28;01mreturn\u001b[39;00m \u001b[38;5;28mself\u001b[39m\u001b[38;5;241m.\u001b[39m_get_value(key)\n\u001b[0;32m   1123\u001b[0m \u001b[38;5;66;03m# Convert generator to list before going through hashable part\u001b[39;00m\n\u001b[0;32m   1124\u001b[0m \u001b[38;5;66;03m# (We will iterate through the generator there to check for slices)\u001b[39;00m\n\u001b[0;32m   1125\u001b[0m \u001b[38;5;28;01mif\u001b[39;00m is_iterator(key):\n",
      "File \u001b[1;32m~\\anaconda3\\Lib\\site-packages\\pandas\\core\\series.py:1237\u001b[0m, in \u001b[0;36mSeries._get_value\u001b[1;34m(self, label, takeable)\u001b[0m\n\u001b[0;32m   1234\u001b[0m     \u001b[38;5;28;01mreturn\u001b[39;00m \u001b[38;5;28mself\u001b[39m\u001b[38;5;241m.\u001b[39m_values[label]\n\u001b[0;32m   1236\u001b[0m \u001b[38;5;66;03m# Similar to Index.get_value, but we do not fall back to positional\u001b[39;00m\n\u001b[1;32m-> 1237\u001b[0m loc \u001b[38;5;241m=\u001b[39m \u001b[38;5;28mself\u001b[39m\u001b[38;5;241m.\u001b[39mindex\u001b[38;5;241m.\u001b[39mget_loc(label)\n\u001b[0;32m   1239\u001b[0m \u001b[38;5;28;01mif\u001b[39;00m is_integer(loc):\n\u001b[0;32m   1240\u001b[0m     \u001b[38;5;28;01mreturn\u001b[39;00m \u001b[38;5;28mself\u001b[39m\u001b[38;5;241m.\u001b[39m_values[loc]\n",
      "File \u001b[1;32m~\\anaconda3\\Lib\\site-packages\\pandas\\core\\indexes\\range.py:415\u001b[0m, in \u001b[0;36mRangeIndex.get_loc\u001b[1;34m(self, key)\u001b[0m\n\u001b[0;32m    413\u001b[0m         \u001b[38;5;28;01mreturn\u001b[39;00m \u001b[38;5;28mself\u001b[39m\u001b[38;5;241m.\u001b[39m_range\u001b[38;5;241m.\u001b[39mindex(new_key)\n\u001b[0;32m    414\u001b[0m     \u001b[38;5;28;01mexcept\u001b[39;00m \u001b[38;5;167;01mValueError\u001b[39;00m \u001b[38;5;28;01mas\u001b[39;00m err:\n\u001b[1;32m--> 415\u001b[0m         \u001b[38;5;28;01mraise\u001b[39;00m \u001b[38;5;167;01mKeyError\u001b[39;00m(key) \u001b[38;5;28;01mfrom\u001b[39;00m\u001b[38;5;250m \u001b[39m\u001b[38;5;21;01merr\u001b[39;00m\n\u001b[0;32m    416\u001b[0m \u001b[38;5;28;01mif\u001b[39;00m \u001b[38;5;28misinstance\u001b[39m(key, Hashable):\n\u001b[0;32m    417\u001b[0m     \u001b[38;5;28;01mraise\u001b[39;00m \u001b[38;5;167;01mKeyError\u001b[39;00m(key)\n",
      "\u001b[1;31mKeyError\u001b[0m: 0"
     ]
    }
   ],
   "source": [
    "df_train[\"Current Region\"]=df_train[\"Current Region\"].replace({\"\":df_train[\"Current Region\"].mode()[0]})"
   ]
  },
  {
   "cell_type": "code",
   "execution_count": 22,
   "id": "7046efe3-59c7-4a15-870b-8a8753befc30",
   "metadata": {},
   "outputs": [],
   "source": [
    "df[\"Current Region\"] = df[\"Current Region\"].replace({\"\":df[\"Current Region\"].mode()[0]})"
   ]
  },
  {
   "cell_type": "code",
   "execution_count": 54,
   "id": "47e50cb4-4963-4c9f-9f6f-3f132b312ac6",
   "metadata": {},
   "outputs": [],
   "source": [
    "df_train = df_train.rename(columns={\n",
    "    \"0-4M\": \"Age0_4_Male\",\n",
    "    \"0-4F\": \"Age0_4_Female\",\n",
    "    \"5-11M\": \"Age5_11_Male\",\n",
    "    \"5-11F\": \"Age5_11_Female\",\n",
    "    \"12-17M\": \"Age12_17_Male\",\n",
    "    \"12-17F\": \"Age12_17_Female\",\n",
    "    \"18_59M\": \"Age18_59_Male\",\n",
    "    \"18_59F\": \"Age18_59_Female\",\n",
    "    \"60+M\": \"Age60plus_Male\",\n",
    "    \"60+F\": \"Age60plus_Female\"\n",
    "})\n"
   ]
  },
  {
   "cell_type": "code",
   "execution_count": 55,
   "id": "fc1dd7a8-d8d8-4a14-b876-8c88dc9cbd97",
   "metadata": {},
   "outputs": [
    {
     "name": "stdout",
     "output_type": "stream",
     "text": [
      "<class 'pandas.core.frame.DataFrame'>\n",
      "Index: 28518 entries, 0 to 29662\n",
      "Data columns (total 20 columns):\n",
      " #   Column               Non-Null Count  Dtype \n",
      "---  ------               --------------  ----- \n",
      " 0   Current Region       28518 non-null  object\n",
      " 1   CurrentDistrict      28518 non-null  object\n",
      " 2   Previous Region      28518 non-null  object\n",
      " 3   PreviousDistrict     28518 non-null  object\n",
      " 4   Arrival              28518 non-null  object\n",
      " 5   ZoneName             28518 non-null  object\n",
      " 6   OrganisationAcronym  28518 non-null  object\n",
      " 7   Age0_4_Male          28518 non-null  int64 \n",
      " 8   Age0_4_Female        28518 non-null  int64 \n",
      " 9   Age5_11_Male         28518 non-null  int64 \n",
      " 10  Age5_11_Female       28518 non-null  int64 \n",
      " 11  Age12_17_Male        28518 non-null  int64 \n",
      " 12  Age12_17_Female      28518 non-null  int64 \n",
      " 13  Age18_59_Male        28518 non-null  int64 \n",
      " 14  Age18_59_Female      28518 non-null  int64 \n",
      " 15  Age60plus_Male       28518 non-null  int64 \n",
      " 16  Age60plus_Female     28518 non-null  int64 \n",
      " 17  Individuals          28518 non-null  int64 \n",
      " 18  Category             28518 non-null  object\n",
      " 19  Need                 28518 non-null  object\n",
      "dtypes: int64(11), object(9)\n",
      "memory usage: 4.6+ MB\n",
      "None\n"
     ]
    }
   ],
   "source": [
    "print(df_train.info())"
   ]
  },
  {
   "cell_type": "code",
   "execution_count": 56,
   "id": "4251993f-953c-40e3-804b-c7073927cd63",
   "metadata": {},
   "outputs": [],
   "source": [
    "before = df_train.shape"
   ]
  },
  {
   "cell_type": "code",
   "execution_count": 57,
   "id": "4fc1255c-047b-42bc-93f5-f8b5a41fff5e",
   "metadata": {},
   "outputs": [
    {
     "name": "stdout",
     "output_type": "stream",
     "text": [
      "(28518, 20)\n"
     ]
    }
   ],
   "source": [
    "print(before)"
   ]
  },
  {
   "cell_type": "code",
   "execution_count": 58,
   "id": "6a2509e3-45c2-4ae0-a325-251bb9e26eea",
   "metadata": {},
   "outputs": [],
   "source": [
    "df_train = df_train.drop_duplicates()"
   ]
  },
  {
   "cell_type": "code",
   "execution_count": 59,
   "id": "14e273ac-2208-4fc1-90e4-50ef52ca3c45",
   "metadata": {},
   "outputs": [
    {
     "name": "stdout",
     "output_type": "stream",
     "text": [
      "(26759, 20)\n"
     ]
    }
   ],
   "source": [
    "print(df_train.shape)"
   ]
  },
  {
   "cell_type": "code",
   "execution_count": 60,
   "id": "4fc51769-9817-4d94-b90a-65480cf20b91",
   "metadata": {},
   "outputs": [],
   "source": [
    "df_train[\"Arrival\"] = pd.to_datetime(df_train[\"Arrival\"], errors=\"coerce\")\n",
    "df_train[\"Arrival_Year\"] = df_train[\"Arrival\"].dt.year\n",
    "df_train[\"Arrival_Month\"] = df_train[\"Arrival\"].dt.month\n"
   ]
  },
  {
   "cell_type": "code",
   "execution_count": null,
   "id": "fbb5fde6-c19b-4dfe-a8c8-397775657941",
   "metadata": {},
   "outputs": [],
   "source": [
    "print(\"the way I did that Arrival has data like 3/4/2019 and that we cannot change into int we need to look for year and month then make them int\")"
   ]
  },
  {
   "cell_type": "code",
   "execution_count": 61,
   "id": "8dfcace9-13a7-4016-95dc-263c229c912b",
   "metadata": {},
   "outputs": [
    {
     "name": "stdout",
     "output_type": "stream",
     "text": [
      "<class 'pandas.core.frame.DataFrame'>\n",
      "Index: 26759 entries, 0 to 29662\n",
      "Data columns (total 22 columns):\n",
      " #   Column               Non-Null Count  Dtype         \n",
      "---  ------               --------------  -----         \n",
      " 0   Current Region       26759 non-null  object        \n",
      " 1   CurrentDistrict      26759 non-null  object        \n",
      " 2   Previous Region      26759 non-null  object        \n",
      " 3   PreviousDistrict     26759 non-null  object        \n",
      " 4   Arrival              26759 non-null  datetime64[ns]\n",
      " 5   ZoneName             26759 non-null  object        \n",
      " 6   OrganisationAcronym  26759 non-null  object        \n",
      " 7   Age0_4_Male          26759 non-null  int64         \n",
      " 8   Age0_4_Female        26759 non-null  int64         \n",
      " 9   Age5_11_Male         26759 non-null  int64         \n",
      " 10  Age5_11_Female       26759 non-null  int64         \n",
      " 11  Age12_17_Male        26759 non-null  int64         \n",
      " 12  Age12_17_Female      26759 non-null  int64         \n",
      " 13  Age18_59_Male        26759 non-null  int64         \n",
      " 14  Age18_59_Female      26759 non-null  int64         \n",
      " 15  Age60plus_Male       26759 non-null  int64         \n",
      " 16  Age60plus_Female     26759 non-null  int64         \n",
      " 17  Individuals          26759 non-null  int64         \n",
      " 18  Category             26759 non-null  object        \n",
      " 19  Need                 26759 non-null  object        \n",
      " 20  Arrival_Year         26759 non-null  int32         \n",
      " 21  Arrival_Month        26759 non-null  int32         \n",
      "dtypes: datetime64[ns](1), int32(2), int64(11), object(8)\n",
      "memory usage: 4.5+ MB\n",
      "None\n"
     ]
    }
   ],
   "source": [
    "print(df_train.info())"
   ]
  },
  {
   "cell_type": "code",
   "execution_count": null,
   "id": "e1ea4ada-07ef-41f2-9009-de52bdf967ff",
   "metadata": {},
   "outputs": [],
   "source": []
  }
 ],
 "metadata": {
  "kernelspec": {
   "display_name": "Python [conda env:base] *",
   "language": "python",
   "name": "conda-base-py"
  },
  "language_info": {
   "codemirror_mode": {
    "name": "ipython",
    "version": 3
   },
   "file_extension": ".py",
   "mimetype": "text/x-python",
   "name": "python",
   "nbconvert_exporter": "python",
   "pygments_lexer": "ipython3",
   "version": "3.13.5"
  }
 },
 "nbformat": 4,
 "nbformat_minor": 5
}
